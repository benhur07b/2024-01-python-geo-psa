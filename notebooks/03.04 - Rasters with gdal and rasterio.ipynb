{
 "cells": [
  {
   "cell_type": "markdown",
   "id": "2fd93684-16fa-42c5-9fb1-39a95022b2e9",
   "metadata": {},
   "source": [
    "# Rasters with gdal and rasterio"
   ]
  },
  {
   "cell_type": "markdown",
   "id": "32e1b4c1-2f6b-47a0-b761-ce07d2792c34",
   "metadata": {},
   "source": [
    "## GDAL (Geospatial Data Abstraction Library)\n",
    "- a powerful toolbox for reading and writing raster data \n",
    "- serves as the reference library for almost all FOSS4G (Free and Open Source Software for Geospatial) programs and libraries dealing with rasters\n",
    "- the backbone of modern raster processing\n",
    "- provides a Python API: https://gdal.org/api/python/osgeo.gdal.html\n",
    "\n",
    "\n",
    "## rasterio\n",
    "- https://rasterio.readthedocs.io/\n",
    "- provides a Python API based on Numpy N-dimensional arrays and GeoJSON\n",
    "- more Pythonic than the GDAL Python bindings"
   ]
  },
  {
   "cell_type": "code",
   "execution_count": null,
   "id": "7d794575-fc28-41c5-afb6-272427e6ccdc",
   "metadata": {},
   "outputs": [],
   "source": [
    "from osgeo import gdal\n",
    "\n",
    "# Specify the path to your GeoTIFF file\n",
    "tif_path = 'data/ncr_srtm_dem.tif'\n",
    "\n",
    "# Open the GeoTIFF file\n",
    "dataset = gdal.Open(tif_path)\n",
    "\n",
    "# Check if the file is successfully opened\n",
    "try:\n",
    "    if dataset is not None:\n",
    "        print(\"GeoTIFF file opened successfully.\")\n",
    "        # Access additional information about the dataset\n",
    "        print(f\"Number of bands: {dataset.RasterCount}\")\n",
    "        print(f\"Width: {dataset.RasterXSize}, Height: {dataset.RasterYSize}\")\n",
    "        print(f\"Projection: {dataset.GetProjection()}\")\n",
    "        # Close the dataset when done\n",
    "        dataset = None\n",
    "    else:\n",
    "        print(\"Failed to open GeoTIFF file.\")\n",
    "except:\n",
    "    print(\"Failed to load\")"
   ]
  },
  {
   "cell_type": "code",
   "execution_count": null,
   "id": "26ea14a2-8ddf-49d3-8bc4-5c6ede896ba1",
   "metadata": {},
   "outputs": [],
   "source": [
    "import rasterio\n",
    "\n",
    "ncr_dem = rasterio.open(\"data/ncr_srtm_dem.tif\")\n",
    "\n",
    "ncr_dem.meta"
   ]
  },
  {
   "cell_type": "code",
   "execution_count": null,
   "id": "6a9b8093-63f7-4798-ab7b-af8b2d9699ee",
   "metadata": {},
   "outputs": [],
   "source": [
    "ncr_dem.shape"
   ]
  },
  {
   "cell_type": "code",
   "execution_count": null,
   "id": "3affa951-deb3-47b0-9c30-683e8abf0dd6",
   "metadata": {},
   "outputs": [],
   "source": [
    "ncr_dem.count"
   ]
  },
  {
   "cell_type": "code",
   "execution_count": null,
   "id": "28af2e55-e043-4dce-b185-b88badb9a3c2",
   "metadata": {},
   "outputs": [],
   "source": [
    "ncr_dem.dtypes"
   ]
  },
  {
   "cell_type": "code",
   "execution_count": null,
   "id": "a2b089ad-a70e-45c7-a72e-9fa2f3d89df2",
   "metadata": {},
   "outputs": [],
   "source": [
    "ncr_dem.bounds"
   ]
  },
  {
   "cell_type": "code",
   "execution_count": null,
   "id": "1035ce01-2428-488c-930a-5b4a78d7f55d",
   "metadata": {},
   "outputs": [],
   "source": [
    "%matplotlib inline\n",
    "from rasterio import plot\n",
    "plot.show(ncr_dem)"
   ]
  },
  {
   "cell_type": "code",
   "execution_count": null,
   "id": "88d9d88e-0355-4f62-8546-027eb753bfe0",
   "metadata": {},
   "outputs": [],
   "source": [
    "%matplotlib inline\n",
    "plot.show_hist(ncr_dem)"
   ]
  },
  {
   "cell_type": "code",
   "execution_count": null,
   "id": "fe8fd45d-f96f-4c9f-bd5c-01fe10a03d35",
   "metadata": {},
   "outputs": [],
   "source": [
    "up_multiband = rasterio.open(\"data/multi.tiff\")\n",
    "up_pan = rasterio.open(\"data/pan.tiff\")\n",
    "\n",
    "print(up_multiband.meta)\n",
    "print(up_pan.meta)"
   ]
  },
  {
   "cell_type": "code",
   "execution_count": null,
   "id": "433887b0-4bc1-4a82-95d8-d5080c06f1eb",
   "metadata": {},
   "outputs": [],
   "source": [
    "plot.show(up_multiband)"
   ]
  },
  {
   "cell_type": "code",
   "execution_count": null,
   "id": "96c173ba-6199-4198-b56f-edf6f6394e5f",
   "metadata": {},
   "outputs": [],
   "source": [
    "plot.show(up_pan)"
   ]
  },
  {
   "cell_type": "code",
   "execution_count": null,
   "id": "5602498d-5634-4654-8dbc-1ebf76b3e774",
   "metadata": {},
   "outputs": [],
   "source": [
    "from matplotlib import pyplot as plt\n",
    "\n",
    "fig, (axr, axg, axb) = plt.subplots(1,3, figsize=(21,7))\n",
    "plot.show((up_multiband, 1), ax=axr, cmap='Reds', title='R')\n",
    "plot.show((up_multiband, 2), ax=axg, cmap='Greens', title='G')\n",
    "plot.show((up_multiband, 3), ax=axb, cmap='Blues', title='B')"
   ]
  },
  {
   "cell_type": "code",
   "execution_count": null,
   "id": "7f07affa-594a-4bd9-a519-d989272ca779",
   "metadata": {},
   "outputs": [],
   "source": []
  }
 ],
 "metadata": {
  "kernelspec": {
   "display_name": "Python 3 (ipykernel)",
   "language": "python",
   "name": "python3"
  },
  "language_info": {
   "codemirror_mode": {
    "name": "ipython",
    "version": 3
   },
   "file_extension": ".py",
   "mimetype": "text/x-python",
   "name": "python",
   "nbconvert_exporter": "python",
   "pygments_lexer": "ipython3",
   "version": "3.11.7"
  }
 },
 "nbformat": 4,
 "nbformat_minor": 5
}
