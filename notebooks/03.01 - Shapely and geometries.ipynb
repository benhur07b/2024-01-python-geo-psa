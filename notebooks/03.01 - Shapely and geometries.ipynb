{
 "cells": [
  {
   "cell_type": "markdown",
   "id": "49053f29-7678-49a7-ab42-2331cf0538e8",
   "metadata": {},
   "source": [
    "# Shapely\n",
    "- https://shapely.readthedocs.io/en/latest/\n",
    "- open source (BSD-license) Python package for manipulation and analysis of **planar** geometric objects\n",
    "- not primarily focused on data serialization formats or coordinate systems, but can be readily integrated with packages that are."
   ]
  },
  {
   "cell_type": "markdown",
   "id": "f35121c2-4f87-47ed-9298-98b390d4ce99",
   "metadata": {},
   "source": [
    "## Points"
   ]
  },
  {
   "cell_type": "code",
   "execution_count": null,
   "id": "bd506531-8a2d-415d-8d98-8a58007af402",
   "metadata": {},
   "outputs": [],
   "source": [
    "from shapely import Point\n",
    "\n",
    "pt1 = Point(0.0, 0.0)\n",
    "\n",
    "print(pt1)"
   ]
  },
  {
   "cell_type": "code",
   "execution_count": null,
   "id": "f8ff5350-22e5-4f92-b68a-4ba1d3c5e93a",
   "metadata": {},
   "outputs": [],
   "source": [
    "print(f\"length: {pt1.length}, area: {pt1.area}\")"
   ]
  },
  {
   "cell_type": "code",
   "execution_count": null,
   "id": "525b655c-6fb5-4c1f-b8fa-716807bd3e91",
   "metadata": {},
   "outputs": [],
   "source": [
    "pt1.wkt"
   ]
  },
  {
   "cell_type": "markdown",
   "id": "67e46ea5-89d9-4067-863f-f482956bd439",
   "metadata": {},
   "source": [
    "## WKT (Well Known Text)\n",
    "\n",
    "- https://en.wikipedia.org/wiki/Well-known_text_representation_of_geometry\n",
    "- a standardized text representation format for encoding and exchanging geometric and geospatial data\n",
    "- human-readable and facilitates easy comprehension and manual editing of geometric data\n",
    "- useful data exchange format\n",
    "- Example WKT Strings:\n",
    "  - Point: `POINT(1 2)`\n",
    "  - LineString: `LINESTRING(0 0, 1 1, 2 2)`\n",
    "  - Polygon: `POLYGON((0 0, 0 1, 1 1, 1 0, 0 0))`"
   ]
  },
  {
   "cell_type": "markdown",
   "id": "0a5a9074-18b3-4aa1-bb89-f6311bd8fe74",
   "metadata": {},
   "source": [
    "Geometries can be constructed in shapely using WKT"
   ]
  },
  {
   "cell_type": "code",
   "execution_count": null,
   "id": "91983292-f33c-4f3d-90d8-9f9c4a3248dc",
   "metadata": {},
   "outputs": [],
   "source": [
    "from shapely import from_wkt\n",
    "\n",
    "pt2 = from_wkt(\"POINT (0 1)\")\n",
    "\n",
    "print(pt2)"
   ]
  },
  {
   "cell_type": "code",
   "execution_count": null,
   "id": "82812fa9-3982-44d0-9e4a-9c020e35ae4f",
   "metadata": {},
   "outputs": [],
   "source": [
    "# Distance of pt2 from pt1\n",
    "\n",
    "distance = pt1.distance(pt2)\n",
    "print(distance)"
   ]
  },
  {
   "cell_type": "markdown",
   "id": "d6ee4114-45ef-4ed6-b9f1-917c1d4dc692",
   "metadata": {},
   "source": [
    "**Why didn't we need to import the distance function?**"
   ]
  },
  {
   "cell_type": "markdown",
   "id": "c87d53f6-4b36-4ff0-840d-524d0f73f872",
   "metadata": {},
   "source": [
    "## Linestrings"
   ]
  },
  {
   "cell_type": "code",
   "execution_count": null,
   "id": "b1ffe566-ab94-4690-9899-c47dc37ee699",
   "metadata": {},
   "outputs": [],
   "source": [
    "from shapely.geometry import LineString\n",
    "\n",
    "ln1 = LineString([(0, 0), (0, 1)])\n",
    "\n",
    "print(ln1)"
   ]
  },
  {
   "cell_type": "code",
   "execution_count": null,
   "id": "38a65120-1564-4431-86cd-64540a641451",
   "metadata": {},
   "outputs": [],
   "source": [
    "print(f\"length: {ln1.length}, area: {ln1.area}\")"
   ]
  },
  {
   "cell_type": "markdown",
   "id": "97711d0b-f882-48bb-919b-b95519925280",
   "metadata": {},
   "source": [
    "## Polygons"
   ]
  },
  {
   "cell_type": "code",
   "execution_count": null,
   "id": "5a269025-5fd5-40dc-9c20-a51e6a4caad4",
   "metadata": {},
   "outputs": [],
   "source": [
    "from shapely.geometry import Polygon\n",
    "\n",
    "polygon = Polygon([(0,0), (0,1), (1,1), (1,0)])\n",
    "polygon"
   ]
  },
  {
   "cell_type": "markdown",
   "id": "c01a37f1-b040-496a-91a8-643c84a00390",
   "metadata": {},
   "source": [
    "**Polygons can be created from a list of coordinates**"
   ]
  },
  {
   "cell_type": "code",
   "execution_count": null,
   "id": "d267c563-0f9e-49b7-8182-4d24abae04a5",
   "metadata": {},
   "outputs": [],
   "source": [
    "coords = [(0,0), (0,1), (1,1), (1,0)]"
   ]
  },
  {
   "cell_type": "code",
   "execution_count": null,
   "id": "e0bfe686-54d7-492b-8a5d-2db84a41989c",
   "metadata": {},
   "outputs": [],
   "source": [
    "polygon = Polygon(coords)\n",
    "polygon"
   ]
  },
  {
   "cell_type": "code",
   "execution_count": null,
   "id": "e8316bef-c071-4504-bf58-430bf8d6f0ac",
   "metadata": {},
   "outputs": [],
   "source": [
    "# perimeter\n",
    "polygon.length"
   ]
  },
  {
   "cell_type": "code",
   "execution_count": null,
   "id": "ed3214b5-407a-475c-ad60-3f97d9221bea",
   "metadata": {},
   "outputs": [],
   "source": [
    "# area"
   ]
  },
  {
   "cell_type": "code",
   "execution_count": null,
   "id": "33069310-3368-46f9-8cf2-75e08acbdfd2",
   "metadata": {},
   "outputs": [],
   "source": [
    "polygon.area"
   ]
  },
  {
   "cell_type": "markdown",
   "id": "8e12fe8e-84b3-45e8-812f-78e6c93e2dbe",
   "metadata": {},
   "source": [
    "## Challenge 06:\n",
    "\n",
    "Rewrite the script you wrote in Challenge 05 to use shapely instead of the the area computation function you created."
   ]
  },
  {
   "cell_type": "markdown",
   "id": "0f4ffdb4-5da9-4dd4-97b0-9cb94a1fa7a8",
   "metadata": {},
   "source": [
    "## Spatial relationships with Shapely\n",
    "\n",
    "### Spatial relationships and predicates\n",
    "Spatial relationships and predicates are fundamental concepts in GIS. They describe the relationships between geometries in space, such as whether one geometry contains, intersects, or touches another geometry.\n",
    "\n",
    "Learn more at [Dimensionally Extended 9-Intersection Model (DE-9IM)](https://en.wikipedia.org/wiki/DE-9IM)\n",
    "\n",
    "Shapely has excellent implementation of spatial relationships."
   ]
  },
  {
   "cell_type": "markdown",
   "id": "f96cc589-a61e-43a6-931f-bafb2bea3316",
   "metadata": {},
   "source": [
    "### Checking relationship between/among geometries"
   ]
  },
  {
   "cell_type": "code",
   "execution_count": null,
   "id": "a0796b52-4e04-4235-a94d-530e9ae9ea6c",
   "metadata": {},
   "outputs": [],
   "source": [
    "from shapely.geometry import Point, LineString, Polygon\n",
    "\n",
    "pt = Point([1,1])\n",
    "line1 = LineString([(0,0),(2,2)])\n",
    "line2 = LineString([(-1,-1),(3,1)])\n",
    "polygon1 = Polygon([(-1,-1),(-1,2),(-2,2)])\n",
    "polygon2 = Polygon([(0,0), (0,1), (1,1), (1,0)])   "
   ]
  },
  {
   "cell_type": "code",
   "execution_count": null,
   "id": "fb66d279-1f53-4e61-bbfb-8cf6aace3d27",
   "metadata": {},
   "outputs": [],
   "source": [
    "# check if point intersects with line1\n",
    "pt1.intersects(line1)"
   ]
  },
  {
   "cell_type": "code",
   "execution_count": null,
   "id": "0d8179dd-24dd-4608-90e8-f4f211fedab9",
   "metadata": {},
   "outputs": [],
   "source": [
    "# check if point intersects with line1\n",
    "pt1.intersects(line2)"
   ]
  },
  {
   "cell_type": "code",
   "execution_count": null,
   "id": "a65fca07-048a-4369-bf14-7f0a5bcdb9b6",
   "metadata": {},
   "outputs": [],
   "source": [
    "# check if the two linestrings cross\n",
    "line1.crosses(line2)"
   ]
  },
  {
   "cell_type": "markdown",
   "id": "0ae23a67-f64b-46d9-b64a-e2a691ba53a2",
   "metadata": {},
   "source": [
    "## Challenge 07:\n",
    "1. How do you check if pt is within polygon1 or polygon2?\n",
    "2. How do you check if polygon1 contains polygon2?"
   ]
  },
  {
   "cell_type": "markdown",
   "id": "d4e0d413-000a-4ac9-a985-5a39900ed051",
   "metadata": {},
   "source": [
    "### Simple spatial analysis\n",
    "These functions return new geometry objects"
   ]
  },
  {
   "cell_type": "code",
   "execution_count": null,
   "id": "acd39285-7a91-4aa4-b327-17d3983c4076",
   "metadata": {},
   "outputs": [],
   "source": [
    "# Get centroid of a polygon\n",
    "print(polygon1.centroid)"
   ]
  },
  {
   "cell_type": "code",
   "execution_count": null,
   "id": "f32d8ae9-49d4-489f-b2e0-006639fad10c",
   "metadata": {},
   "outputs": [],
   "source": [
    "# Get the intersection of a point and polygon\n",
    "print(polygon2.intersection(pt))"
   ]
  },
  {
   "cell_type": "markdown",
   "id": "b2f04ce4-893c-450e-a4ca-7dcd3a2660f8",
   "metadata": {},
   "source": [
    "## Challenge 08:\n",
    "1. How about the intersection of a line and polygon?"
   ]
  },
  {
   "cell_type": "code",
   "execution_count": null,
   "id": "5e4e5a5f-5358-453b-827b-8cff86adcfbb",
   "metadata": {},
   "outputs": [],
   "source": [
    "# create a simple buffer\n",
    "buffer = line1.buffer(1)\n",
    "print(buffer)\n",
    "buffer"
   ]
  }
 ],
 "metadata": {
  "kernelspec": {
   "display_name": "Python 3 (ipykernel)",
   "language": "python",
   "name": "python3"
  },
  "language_info": {
   "codemirror_mode": {
    "name": "ipython",
    "version": 3
   },
   "file_extension": ".py",
   "mimetype": "text/x-python",
   "name": "python",
   "nbconvert_exporter": "python",
   "pygments_lexer": "ipython3",
   "version": "3.11.7"
  }
 },
 "nbformat": 4,
 "nbformat_minor": 5
}
