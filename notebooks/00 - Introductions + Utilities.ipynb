{
 "cells": [
  {
   "cell_type": "markdown",
   "id": "437dd9cd-f263-49aa-96aa-be1b7ddc6522",
   "metadata": {},
   "source": [
    "# Introduction\n",
    "\n",
    "Python ang geospatial notebooks created by [Ben Hur Pintor](https://bnhr.xyz) and [BNHR](https://facebook.com/bnhr.xyz).\n",
    "\n",
    "## License\n",
    "\n",
    "<img src=\"https://upload.wikimedia.org/wikipedia/commons/thumb/e/e5/CC_BY-SA_icon.svg/1920px-CC_BY-SA_icon.svg.png\" width=100/>\n",
    "\n",
    "This material is licensed under a [Creative Commons Attribution-ShareAlike 4.0 International License](https://creativecommons.org/licenses/by-sa/4.0/).\n",
    "\n",
    "You are free to:\n",
    "- Share — copy and redistribute the material in any medium or format for any purpose, even commercially.\n",
    "- Adapt — remix, transform, and build upon the material for any purpose, even commercially.\n",
    "\n",
    "The licensor cannot revoke these freedoms as long as you follow the license terms.\n",
    "\n",
    "Under the following terms:\n",
    "- Attribution — You must give appropriate credit , provide a link to the license, and indicate if changes were made . You may do so in any reasonable manner, but not in any way that suggests the licensor endorses you or your use.\n",
    "- ShareAlike — If you remix, transform, or build upon the material, you must distribute your contributions under the same license as the original. "
   ]
  },
  {
   "cell_type": "markdown",
   "id": "b0ac51bc-5522-4e10-82ab-4433e3f4d26e",
   "metadata": {},
   "source": [
    "# Some Python housekeeping basics\n",
    "\n",
    "## Package management\n",
    "- **Definition**: Package managers handle the installation, upgrading, configuration, and removal of software packages.\n",
    "- **Role**: Ensures that Python projects have the required external libraries and dependencies.\n",
    "\n",
    "### pip\n",
    "- https://pip.pypa.io/en/stable/\n",
    "- `pip` is the default package manager for Python\n",
    "\n",
    "#### Usage\n",
    "- Installing a package: `pip install package_name`\n",
    "- Upgrading a package: `pip install --upgrade package_name`\n",
    "- Removing a package: `pip uninstall package_name`"
   ]
  },
  {
   "cell_type": "markdown",
   "id": "33223309-6183-4942-b44c-bed78468f334",
   "metadata": {},
   "source": [
    "## Virtual environment management\n",
    "- **Definition**: Virtual environments allow isolation of project dependencies, preventing conflicts between different projects.\n",
    "- **Role**: Provides a dedicated environment for each project ensuring dependency consistency and avoiding conflicts (especially with system-wide installation of Python libraries).\n",
    "\n",
    "### venv\n",
    "- https://docs.python.org/3/library/venv.html\n",
    "- `venv` is a built-in virtual environment manager in Python (since Python 3.3)\n",
    "\n",
    "#### Usage\n",
    "- Creating a virtual environment: `python -m venv /path/to/new/virtual/environment`\n",
    "- Activating the virtual environment:\n",
    "  - Windows: `myenv\\Scripts\\activat`\n",
    "  - Unix or MacOS: `source myenv/bin/activate`\n",
    "- Deactivating the virtual environment: `deactivate`"
   ]
  },
  {
   "cell_type": "markdown",
   "id": "644e21af-42af-4fca-ac02-8a64b76dcf72",
   "metadata": {},
   "source": [
    "## Conda\n",
    "- https://docs.conda.io/en/latest/\n",
    "- `conda` is a cross-platform package and environment manager\n",
    "- manages packages, dependencies, and environments\n",
    "- supports packages from different languages, not just Python\n",
    "\n",
    "### Usage\n",
    "- Creating an environment: `conda create -n myenv`\n",
    "- Activating an environment: `conda activate myenv`\n",
    "- Deactivating an environment: `conda deactivate`\n",
    "- Installing a package: `conda install package_name`\n",
    "- What packages can be installed? Try looking at [conda-forge](https://conda-forge.org/)\n"
   ]
  }
 ],
 "metadata": {
  "kernelspec": {
   "display_name": "Python 3 (ipykernel)",
   "language": "python",
   "name": "python3"
  },
  "language_info": {
   "codemirror_mode": {
    "name": "ipython",
    "version": 3
   },
   "file_extension": ".py",
   "mimetype": "text/x-python",
   "name": "python",
   "nbconvert_exporter": "python",
   "pygments_lexer": "ipython3",
   "version": "3.11.7"
  }
 },
 "nbformat": 4,
 "nbformat_minor": 5
}
