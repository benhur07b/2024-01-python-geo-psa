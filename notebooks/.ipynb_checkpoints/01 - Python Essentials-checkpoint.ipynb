{
 "cells": [
  {
   "cell_type": "markdown",
   "id": "1f302b8a-478d-4105-9400-f4781054f908",
   "metadata": {},
   "source": [
    "# Python Essentials\n",
    "\n",
    "This notebook introduces basic and essential Python concepts"
   ]
  },
  {
   "cell_type": "markdown",
   "id": "70078587-27c5-4657-a84a-3495a787e511",
   "metadata": {},
   "source": [
    "## Kumusta mundo!"
   ]
  },
  {
   "cell_type": "code",
   "execution_count": null,
   "id": "ac1bac10-6802-4d4c-8631-d0398b8a4ba5",
   "metadata": {},
   "outputs": [],
   "source": [
    "print(\"Kumusta mundo!\")"
   ]
  },
  {
   "cell_type": "markdown",
   "id": "2a4160d3-6e02-479e-ab45-7a89f3492804",
   "metadata": {},
   "source": [
    "## Variables and data types\n",
    "\n",
    "**Variables**\n",
    "- a symbolic name assigned to a value or data; like a container that stores information\n",
    "- allows us to manipulate and work with data in a program\n",
    "\n",
    "**Data types**\n",
    "- common data types include integers, floats, strings, and booleans\n",
    "- some operations only work for certain data types"
   ]
  },
  {
   "cell_type": "code",
   "execution_count": null,
   "id": "bf8e9184-0313-4970-9a98-5e997483280c",
   "metadata": {},
   "outputs": [],
   "source": [
    "name = \"Joseph\"\n",
    "age = 19\n",
    "single = True\n",
    "\n",
    "print(type(name), type(age), type(single))"
   ]
  },
  {
   "cell_type": "markdown",
   "id": "b938502e-72dd-4f42-850c-bc0a619c086b",
   "metadata": {},
   "source": [
    "## Libraries and modules\n",
    "\n",
    "### Libraries\n",
    "- a collection of pre-written code and functionalities that can be reused in other applications/scripts\n",
    "- saves time and effort by providing ready-made solutions for common tasks\n",
    "- [DRY principle](https://en.wikipedia.org/wiki/Don't_repeat_yourself) - **DON'T REPEAT YOURSELF**\n",
    "\n",
    "**[Python Standard Library](https://docs.python.org/3/library/index.html)**\n",
    "- Comes bundled with Python and includes a wide range of modules for various tasks.\n",
    "- Examples include **math** for mathematical operations and **os** for interacting with the operating system.\n",
    "\n",
    "**Third-Party Libraries**\n",
    "- Developed by the Python community or external developers.\n",
    "- Extend Python's functionality beyond the standard library.\n",
    "- Examples include [**numpy**](https://numpy.org/) for numerical computing and [**pandas**](https://pandas.pydata.org/) for data analysis.\n",
    "- Where to find? Try [**PyPI**](https://pypi.org/) the Python Package Index."
   ]
  },
  {
   "cell_type": "markdown",
   "id": "4ac41f10-b54a-4299-abd5-bad9becad707",
   "metadata": {},
   "source": [
    "### Importing a library in Python"
   ]
  },
  {
   "cell_type": "code",
   "execution_count": null,
   "id": "9f9e797d-01ee-4edc-930a-8629e8d8b070",
   "metadata": {},
   "outputs": [],
   "source": [
    "#import math module from the standard library\n",
    "import math\n",
    "\n",
    "num = 25\n",
    "result = math.sqrt(num)\n",
    "print(result)"
   ]
  },
  {
   "cell_type": "code",
   "execution_count": null,
   "id": "192a72ff-cf45-402b-bec6-d2403fa85b48",
   "metadata": {},
   "outputs": [],
   "source": [
    "#import the srqt function from the math module\n",
    "from math import sqrt\n",
    "\n",
    "num = 25\n",
    "result = sqrt(num)\n",
    "print(result)"
   ]
  },
  {
   "cell_type": "code",
   "execution_count": null,
   "id": "d3b73233-285a-403c-a75b-41c1504504f1",
   "metadata": {},
   "outputs": [],
   "source": [
    "#import everything from the math module\n",
    "from math import *\n",
    "\n",
    "num = 25\n",
    "result = sqrt(num)\n",
    "print(result)"
   ]
  },
  {
   "cell_type": "markdown",
   "id": "2288cf50-6f65-4f96-9470-e55750e2671b",
   "metadata": {},
   "source": [
    "**Please don't use/do the previous method above. While this approach works, it is not recommended. Why do you think so?**"
   ]
  },
  {
   "cell_type": "code",
   "execution_count": null,
   "id": "2aa32478-ee20-4f40-8a5a-77cbf5b74bae",
   "metadata": {},
   "outputs": [],
   "source": [
    "#rename while importing for easier typing later\n",
    "import datetime as dt\n",
    "\n",
    "print(dt.date.today())"
   ]
  },
  {
   "cell_type": "code",
   "execution_count": null,
   "id": "393805cf-462c-4142-8a6e-0593f5669b6f",
   "metadata": {},
   "outputs": [],
   "source": [
    "#will this work?\n",
    "from datetime import date as d8"
   ]
  },
  {
   "cell_type": "markdown",
   "id": "eb711621-2892-4395-9fd9-206a26603566",
   "metadata": {},
   "source": [
    "**How will you get today's date?**"
   ]
  },
  {
   "cell_type": "markdown",
   "id": "f32e2b3c-5bfc-464a-bb1a-7e2540de3ce7",
   "metadata": {},
   "source": [
    "## Writing Pythonic code\n",
    "\n",
    "### Python Style Guide (PEP8)\n",
    "https://www.python.org/dev/peps/pep-0008/"
   ]
  },
  {
   "cell_type": "code",
   "execution_count": null,
   "id": "5e395137-5d87-46df-866a-a94f375f3e0e",
   "metadata": {},
   "outputs": [],
   "source": [
    "import this"
   ]
  },
  {
   "cell_type": "markdown",
   "id": "dcc5f51f-aedb-468d-84d2-07444a3c740c",
   "metadata": {},
   "source": [
    "## Defining functions\n",
    "\n",
    "### Functions\n",
    "- a block of organized, reusable code that performs a specific task\n",
    "- breaks down a program into smaller, manageable pieces, promoting code modularity\n",
    "- block = same indentation level (including those in the next level of indentations)\n",
    "\n",
    "### Key characteristics\n",
    "- **name**: used to identify and call a function\n",
    "- **parameters**: functions can accept inputs, allowing them to work with different values\n",
    "- **return value**: functions can return a value as output"
   ]
  },
  {
   "cell_type": "code",
   "execution_count": null,
   "id": "0a221a85-14e3-4d97-a450-0bcb1e84f87c",
   "metadata": {},
   "outputs": [],
   "source": [
    "def kumusta():\n",
    "\tprint(\"Kumusta mundo!\")\n",
    "    \n",
    "kumusta()"
   ]
  },
  {
   "cell_type": "markdown",
   "id": "42120ab3-8fac-46ad-89ea-4a85f4aca87c",
   "metadata": {},
   "source": [
    "### Using function parameters"
   ]
  },
  {
   "cell_type": "code",
   "execution_count": null,
   "id": "aa8cc5b8-ce91-4079-a0f3-926243d03b5c",
   "metadata": {},
   "outputs": [],
   "source": [
    "def kumusta_ka(pangalan):\n",
    "\tprint(\"Kumusta ka {}!\".format(pangalan))\n",
    "\n",
    "tao = \"Pedro\" \n",
    "kumusta_ka(tao)\n"
   ]
  },
  {
   "cell_type": "markdown",
   "id": "55f9a99b-dba2-4bf7-8522-a44563e3ad4f",
   "metadata": {},
   "source": [
    "## Flow control\n",
    "\n",
    "Modern programming languages allow us to easily define the order by which statements are executed in our code in order to control the flow of the program.\n",
    "\n",
    "Examples of tools that we can use to control a program's flow are **conditional statements** and **loops**."
   ]
  },
  {
   "cell_type": "markdown",
   "id": "343860be-48f6-4328-8f3e-7f9661351307",
   "metadata": {},
   "source": [
    "### if-else statement\n",
    "Execute a block of code if a certain condition is true, otherwise execute another block."
   ]
  },
  {
   "cell_type": "code",
   "execution_count": null,
   "id": "105f167a-8db1-48fb-872e-731275965778",
   "metadata": {},
   "outputs": [],
   "source": [
    "def kumusta_ka(pangalan):\n",
    "\tprint(\"Kumusta ka {}!\".format(pangalan))\n",
    "\n",
    "tao = \"Pedro\" \n",
    "if tao == \"Juan\": # check if the value of name is Juan; REMEMBER: == means comparison, = means assigment\n",
    "\tkumusta_ka(tao)\n",
    "else:\n",
    "\tprint(\"Hindi ikaw si Juan!\")"
   ]
  },
  {
   "cell_type": "markdown",
   "id": "34876db1-7f85-42a4-a630-c2e8962d4b06",
   "metadata": {},
   "source": [
    "### for loop\n",
    "Repeats a block of code a specific number of times or for each item in an iterable."
   ]
  },
  {
   "cell_type": "code",
   "execution_count": null,
   "id": "1ab68aef-c118-4a92-9e58-5ec0c6699c50",
   "metadata": {},
   "outputs": [],
   "source": [
    "def kumusta_ka(pangalan):\n",
    "\tprint(\"Kumusta ka {}!\".format(pangalan))\n",
    "\n",
    "mga_tao = [\"Juan\", \"Pedro\", \"Jose\"] # NEW DATA STRUCTURE. This is a list. A list is an iterable that contains objects.\n",
    "\n",
    "for tao in mga_tao: #run kumusta_ka for every element in the list\n",
    "\tkumusta_ka(tao)"
   ]
  },
  {
   "cell_type": "markdown",
   "id": "1c84c676-4975-4278-bbb2-fc0ec0633d95",
   "metadata": {},
   "source": [
    "### while loop\n",
    "Repeats a block of code as long as a specified condition is true."
   ]
  },
  {
   "cell_type": "code",
   "execution_count": null,
   "id": "cb7a7c11-2976-41c3-b15e-1b3be98d47de",
   "metadata": {},
   "outputs": [],
   "source": [
    "bilang = 0\n",
    "while bilang < 4:\n",
    "\tprint(\"May {} tao\".format(bilang))\n",
    "\tbilang += 1"
   ]
  },
  {
   "cell_type": "markdown",
   "id": "d6af57be-1033-4ec6-8b1b-3fab414ba873",
   "metadata": {},
   "source": [
    "### if-else + for"
   ]
  },
  {
   "cell_type": "code",
   "execution_count": null,
   "id": "895d4bbf-67ad-4fa4-8281-d6c4159c2d08",
   "metadata": {},
   "outputs": [],
   "source": [
    "def kumusta_ka(pangalan):\n",
    "\tprint(\"Kumusta ka {}!\".format(pangalan))\n",
    "\n",
    "mga_tao = [\"Juan\", \"Pedro\", \"Jose\"]\n",
    "\n",
    "for tao in mga_tao:\n",
    "    if tao == \"Juan\":\n",
    "        kumusta_ka(tao)\n",
    "    else:\n",
    "        print(\"Bakit ka andito, {}?\".format(tao))\n"
   ]
  },
  {
   "cell_type": "markdown",
   "id": "f2eb8fba-6b7c-4535-ac65-2008c846cb77",
   "metadata": {},
   "source": [
    "## Errors and exceptions\n",
    "\n",
    "### Errors\n",
    "- issues/mistakes in a program that prevent it from executing successfully\n",
    "- common types include syntax errors, runtime errors, and logical errors\n",
    "\n",
    "### Exceptions\n",
    "- events that occur during the execution of a program that disrupts the normal flow of instructions\n",
    "- common examples include division by zero, accessing an index that does not exist, or trying to open a file that doesn't exist\n",
    "\n",
    "### Handling exceptions\n",
    "- **try**, **except**, **finally**\n",
    "- **try**: Contains the block of code where an exception might occur.\n",
    "- **except**: Specifies the block of code to execute if an exception occurs in the try block.\n",
    "- **finally**: Contains code that will be executed no matter what, whether an exception occurred or not.\n",
    "\n",
    "**_NOTE: you can also pass/create your own exceptions_**"
   ]
  },
  {
   "cell_type": "code",
   "execution_count": null,
   "id": "bd004f33-d91b-4b81-8d58-4f81b427014f",
   "metadata": {},
   "outputs": [],
   "source": [
    "x, y = 1, 0\n",
    "\n",
    "print(x/y)"
   ]
  },
  {
   "cell_type": "code",
   "execution_count": null,
   "id": "99133ec6-c8b4-43d6-99ca-1a911ba1c356",
   "metadata": {},
   "outputs": [],
   "source": [
    "x, y = 1, 0\n",
    "\n",
    "try:\n",
    "    print(x/y)\n",
    "except:\n",
    "    print(\"We couldn't do the division\")"
   ]
  },
  {
   "cell_type": "code",
   "execution_count": null,
   "id": "93309fb5-9d46-4c90-b1a2-b5664cfc9759",
   "metadata": {},
   "outputs": [],
   "source": [
    "x, y = 1, 0\n",
    "\n",
    "try:\n",
    "    print(x/y)\n",
    "except ZeroDivisionError as e:\n",
    "    print(\"We couldn't do the division. ERROR: {}\".format(e))"
   ]
  },
  {
   "cell_type": "code",
   "execution_count": null,
   "id": "56625f42-ccad-4441-8c62-57ad5a0e4968",
   "metadata": {},
   "outputs": [],
   "source": [
    "x, y = 1, 0\n",
    "\n",
    "try:\n",
    "    print(x/y)\n",
    "    \n",
    "except ZeroDivisionError as e:\n",
    "    print(\"We couldn't do the division. Reason: {}\".format(e))\n",
    "finally:\n",
    "    print(\"Maybe try again next time?\")"
   ]
  },
  {
   "cell_type": "markdown",
   "id": "2a8ea8fa-5dee-4315-8030-50569e453676",
   "metadata": {},
   "source": [
    "## Scope\n",
    "\n",
    "### Variable scope\n",
    "- refers to the region of a program where a variable can be accessed or modified\n",
    "- crucial for preventing naming conflicts and managing data effectively\n",
    "\n",
    "### Global and local scope\n",
    "**Global scope**\n",
    "- variables declared outside of any function have a global scope\n",
    "- can be accessed from any part of the program\n",
    "- uses ALLCAPS naming by convention\n",
    "\n",
    "**Local scope**\n",
    "- variables declared inside a function have a local scope\n",
    "- are only accessible within that function"
   ]
  },
  {
   "cell_type": "code",
   "execution_count": null,
   "id": "d936bc26-9312-45ba-96d5-e0aa6ab096e7",
   "metadata": {},
   "outputs": [],
   "source": [
    "# example of global scope variable\n",
    "X = 100\n",
    "\n",
    "def print_x():\n",
    "    print(X)\n",
    "\n",
    "print_x()"
   ]
  },
  {
   "cell_type": "code",
   "execution_count": null,
   "id": "061f9229-b104-40c5-b979-10f83dbb42b4",
   "metadata": {},
   "outputs": [],
   "source": [
    "def print_x():\n",
    "    x = 50  #variable only accessible inside of the print_x function\n",
    "    print(x)\n",
    "\n",
    "print_x()"
   ]
  },
  {
   "cell_type": "markdown",
   "id": "f902eb6c-e7c9-461c-89f8-addd49719ea1",
   "metadata": {},
   "source": [
    "**When a global and local variable share the same name**\n",
    "- the local variable takes precedence"
   ]
  },
  {
   "cell_type": "code",
   "execution_count": null,
   "id": "c6d6d976-fc9a-4c5e-aaf0-2de2cdb30bb7",
   "metadata": {},
   "outputs": [],
   "source": [
    "x = 100  # Global variable\n",
    "\n",
    "def print_x():\n",
    "    x = 50  # Local variable with the same name\n",
    "    print(x)\n",
    "\n",
    "print_x()"
   ]
  },
  {
   "cell_type": "markdown",
   "id": "b0aa0a45-957b-4117-b0de-11dc08824876",
   "metadata": {},
   "source": [
    "**Scope heirarchy**\n",
    "- variables in an inner scope can access variables in an outer scope, but not vice versa"
   ]
  },
  {
   "cell_type": "code",
   "execution_count": null,
   "id": "0182e03d-2b08-45bb-a98e-4c7528830552",
   "metadata": {},
   "outputs": [],
   "source": [
    "X = 100  # Global variable\n",
    "\n",
    "def outer_function():\n",
    "    y = 50  # Outer function's variable\n",
    "\n",
    "    def inner_function():\n",
    "        z = 10  # Inner function's variable\n",
    "        print(X, y, z)\n",
    "\n",
    "    inner_function()\n",
    "\n",
    "outer_function()"
   ]
  },
  {
   "cell_type": "markdown",
   "id": "26ac5be3-ecbd-4f11-8910-b0d8f64fe6ba",
   "metadata": {},
   "source": [
    "## Classes and objects\n",
    "- **Class**: the blueprint for an object. It defines what attributes and methods objects created from the cass will have\n",
    "- **Objects**: an instance of a class that encapsulates/inherits the class' attributes (data) and methods (behavior)\n",
    "\n",
    "### Methods and attributes\n",
    "- **Methods**: functions within a class\n",
    "- **Attributes**: variables within a class\n",
    "- **Both can either be defined for the class or specific instance/object**\n",
    "  - class methods are bound to the class and not to a specific instance of a class making them useful as factory methods or for accessing class-level attributes\n",
    "  - class attributes are shared by all instances of a class compared to instance attributes that are specific to one instance"
   ]
  },
  {
   "cell_type": "code",
   "execution_count": 3,
   "id": "d9cc54f4-7a25-42bc-bfa7-3b9f3c288441",
   "metadata": {},
   "outputs": [
    {
     "data": {
      "text/plain": [
       "'Ako si Juan'"
      ]
     },
     "execution_count": 3,
     "metadata": {},
     "output_type": "execute_result"
    }
   ],
   "source": [
    "class Tao:\n",
    "    def __init__(self, pangalan, edad):\n",
    "        self.pangalan = pangalan\n",
    "        self.edad = edad\n",
    "\n",
    "    def sino_ako(self):\n",
    "        return(\"Ako si \" + self.pangalan)\n",
    "\n",
    "juan = Tao(\"Juan\", 33)\n",
    "\n",
    "juan.sino_ako()"
   ]
  },
  {
   "cell_type": "markdown",
   "id": "4c8faafe-9352-4d8c-aeea-adc733ba0693",
   "metadata": {},
   "source": [
    "### Overriding methods and attributes (Polymorphism)\n",
    "\n",
    "In Python, you can have methods with the same name that perform different funtions.\n",
    "\n",
    "For example, the `len` command functions differently wherher you use it on a string, tuple, dictionary, etc.\n",
    "\n",
    "The same can be said with the `print` command.\n",
    "\n",
    "Try to print juan, our Tao object."
   ]
  },
  {
   "cell_type": "code",
   "execution_count": 4,
   "id": "13f97759-788c-4ad2-aa51-995c785b7be1",
   "metadata": {},
   "outputs": [
    {
     "name": "stdout",
     "output_type": "stream",
     "text": [
      "<__main__.Tao object at 0x761f883713f0>\n"
     ]
    }
   ],
   "source": [
    "print(juan)"
   ]
  },
  {
   "cell_type": "markdown",
   "id": "52d5ac12-0302-4316-9ce9-6e03390d061f",
   "metadata": {},
   "source": [
    "Let's override the print function for the Tao class so that when we call `print` on a Tao object, it gives us the name and age of the Tao."
   ]
  },
  {
   "cell_type": "code",
   "execution_count": 4,
   "id": "e6441ee1-0680-4b77-88c4-8727d053df77",
   "metadata": {},
   "outputs": [
    {
     "name": "stdout",
     "output_type": "stream",
     "text": [
      "Ako si Juan at ako ay 33 taong gulang\n"
     ]
    }
   ],
   "source": [
    "class Tao:\n",
    "    def __init__(self, pangalan, edad):\n",
    "        self.pangalan = pangalan\n",
    "        self.edad = edad\n",
    "\n",
    "    def sino_ako(self):\n",
    "        return \"Ako si \" + self.pangalan\n",
    "\n",
    "    def __str__(self): # the __str__ method returns a string representation of the object, which is used by the print function\n",
    "        return f\"Ako si {self.pangalan} at ako ay {self.edad} taong gulang.\"        \n",
    "\n",
    "juan = Tao(\"Juan\", 33)\n",
    "\n",
    "print(juan)"
   ]
  },
  {
   "cell_type": "code",
   "execution_count": null,
   "id": "15648e9d-e645-4aa1-8e2c-454b1d6cbe68",
   "metadata": {},
   "outputs": [],
   "source": []
  }
 ],
 "metadata": {
  "kernelspec": {
   "display_name": "Python 3 (ipykernel)",
   "language": "python",
   "name": "python3"
  },
  "language_info": {
   "codemirror_mode": {
    "name": "ipython",
    "version": 3
   },
   "file_extension": ".py",
   "mimetype": "text/x-python",
   "name": "python",
   "nbconvert_exporter": "python",
   "pygments_lexer": "ipython3",
   "version": "3.10.12"
  }
 },
 "nbformat": 4,
 "nbformat_minor": 5
}
