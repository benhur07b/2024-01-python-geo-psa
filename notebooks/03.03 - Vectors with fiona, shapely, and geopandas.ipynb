{
 "cells": [
  {
   "cell_type": "markdown",
   "id": "fb2faf77-687c-400b-ab2f-18e807001d00",
   "metadata": {},
   "source": [
    "# Vectors with fiona, shapely, and geopandas"
   ]
  },
  {
   "cell_type": "markdown",
   "id": "b16aed72-6a42-4598-a05c-dedf925f2712",
   "metadata": {},
   "source": [
    "## Fiona\n",
    "- https://fiona.readthedocs.io/en/latest/manual.html\n",
    "- a Python wrapper for vector data access functions from the GDAL/OGR library\n",
    "- simple wrapper for minimalists\n",
    "- reads data records from files as GeoJSON-like mappings and writes the same kind of mappings as records back to files\n",
    "- fiona trades memory and speed for simplicity and reliability"
   ]
  },
  {
   "cell_type": "markdown",
   "id": "1c1a8234-694f-4660-b840-73a91854b175",
   "metadata": {},
   "source": [
    "## GDAL/OGR Python bindings\n",
    "- https://gdal.org/api/python/osgeo.html\n",
    "- probably the most performant option but the least Pythonic"
   ]
  },
  {
   "cell_type": "markdown",
   "id": "6273126a-bcdc-429d-a9f8-bebb261a85c8",
   "metadata": {},
   "source": [
    "## IMPORTANT\n",
    "Geospatial Python libraries are commonly **used together** rather than by themselves."
   ]
  },
  {
   "cell_type": "code",
   "execution_count": null,
   "id": "6f382183-3078-444a-8a70-389a219e3259",
   "metadata": {},
   "outputs": [],
   "source": [
    "import fiona\n",
    "from shapely.geometry import shape\n",
    "\n",
    "with fiona.open(\"data/phl.gpkg\", layer_name=\"ncr_municities_pop\") as ncr_municities:\n",
    "    municity = ncr_municities[2]\n",
    "    print(f'This is {municity[\"properties\"][\"municity\"]}')\n",
    "    geom = shape(municity[\"geometry\"])\n",
    "    print(geom.area)\n",
    "\n",
    "geom"
   ]
  },
  {
   "cell_type": "markdown",
   "id": "6a1aaa34-cc90-425d-a98c-8baf02135a67",
   "metadata": {},
   "source": [
    "## Challenge 09:\n",
    "1. Write a script that iterates over the municities and prints the:\n",
    "   - name of the municity\n",
    "   - population in 2020\n",
    "   - change in population from 2015\n",
    "  \n",
    "Note the following properties/attributes:\n",
    "- name: municity\n",
    "- population in 2020: pop2020\n",
    "- population in 2014: pop2015\n",
    "\n",
    "### Extra challenge\n",
    "- Can you also compute for the population density in persons/100sqm?"
   ]
  },
  {
   "cell_type": "markdown",
   "id": "1cb64460-9ec1-4ce7-a831-ab5bc1c88173",
   "metadata": {},
   "source": [
    "## GeoPandas\n",
    "- https://geopandas.org/en/stable/getting_started/introduction.html\n",
    "- extends the popular data science library [pandas](https://pandas.pydata.org/) by adding support for geospatial data"
   ]
  },
  {
   "cell_type": "markdown",
   "id": "cd706bf9-19f0-495b-8dc8-f610ed1682c7",
   "metadata": {},
   "source": [
    "## GeoDataFrames\n",
    "\n",
    "The core data structure in GeoPandas are: \n",
    "- the `geopandas.GeoDataFrame`, a subclass of `pandas.DataFrame`, that can store geometry columns and perform spatial operations, and\n",
    "- the `geopandas.GeoSeries`, a subclass of `pandas.Series`, handles the geometries.\n",
    "\n",
    "Therefore, your GeoDataFrame is a combination of pandas.Series, with traditional data (numerical, boolean, text etc.), and geopandas.GeoSeries, with geometries (points, polygons etc.). \n",
    "\n",
    "You can have as many columns with geometries as you wish; there’s no limit typical for desktop GIS software."
   ]
  },
  {
   "cell_type": "markdown",
   "id": "6aa99fcb-3e56-42fb-b31f-7e259b32291d",
   "metadata": {},
   "source": [
    "### Loading data"
   ]
  },
  {
   "cell_type": "code",
   "execution_count": null,
   "id": "05148127-296d-41cd-b440-e63af8576710",
   "metadata": {},
   "outputs": [],
   "source": [
    "import geopandas as gpd\n",
    "\n",
    "gdf_municities = gpd.read_file(\"data/phl.gpkg\", layer='ncr_municities_pop')\n",
    "\n",
    "gdf_municities\n"
   ]
  },
  {
   "cell_type": "code",
   "execution_count": null,
   "id": "63bf374f-7bd9-4d14-9edf-a3aa8916208a",
   "metadata": {},
   "outputs": [],
   "source": [
    "df_mcdo = gpd.read_file(\"data/NCR_McDonalds.csv\")\n",
    "\n",
    "df_mcdo"
   ]
  },
  {
   "cell_type": "code",
   "execution_count": null,
   "id": "4e8a99a6-f2ef-4377-85c9-7ca0970b21d6",
   "metadata": {},
   "outputs": [],
   "source": [
    "import pandas as pd\n",
    "df = pd.read_csv(\"data/NCR_McDonalds.csv\")\n",
    "gdf_mcdo = gpd.GeoDataFrame(df, geometry=gpd.points_from_xy(df.longitude, df.latitude))\n",
    "\n",
    "gdf_mcdo"
   ]
  },
  {
   "cell_type": "markdown",
   "id": "03852635-70b1-4d7b-aec1-8ca5fdbafca2",
   "metadata": {},
   "source": [
    "### Making maps"
   ]
  },
  {
   "cell_type": "code",
   "execution_count": null,
   "id": "b154a790-44c4-4687-b163-3876d7329343",
   "metadata": {},
   "outputs": [],
   "source": [
    "gdf_municities.plot(\"pop2020\", legend=\"True\")"
   ]
  },
  {
   "cell_type": "code",
   "execution_count": null,
   "id": "24c85d9a-a2b5-4c59-8696-b8f2c6e643d5",
   "metadata": {},
   "outputs": [],
   "source": [
    "gdf_municities.explore(\"pop2020\", legend=\"True\")"
   ]
  },
  {
   "cell_type": "markdown",
   "id": "cf630d1c-59ab-4b7a-a49e-d38d2dfc02db",
   "metadata": {},
   "source": [
    "Learn more about explore: https://geopandas.org/en/stable/docs/reference/api/geopandas.GeoDataFrame.explore.html"
   ]
  },
  {
   "cell_type": "markdown",
   "id": "3bedc06a-12a8-4bd9-90e5-976c02e8ecde",
   "metadata": {},
   "source": [
    "### Attribute table analysis and computations"
   ]
  },
  {
   "cell_type": "code",
   "execution_count": null,
   "id": "8513808c-c503-40b9-8402-5e8b06adc8c5",
   "metadata": {},
   "outputs": [],
   "source": [
    "# filtering\n",
    "import geopandas as gpd\n",
    "\n",
    "gdf_municities = gpd.read_file(\"data/phl.gpkg\", layer='ncr_municities_pop')\n",
    "\n",
    "gdf_municities[gdf_municities.pop2020 > 500000]"
   ]
  },
  {
   "cell_type": "code",
   "execution_count": null,
   "id": "bbdaef2c-6505-4d55-a08a-6d8e89af542a",
   "metadata": {},
   "outputs": [],
   "source": [
    "dist2 = gdf_municities[gdf_municities[\"province\"] == \"Second District, NCR\"]\n",
    "dist2"
   ]
  },
  {
   "cell_type": "code",
   "execution_count": null,
   "id": "f0de4b82-bac3-4d07-976a-5fb23921a6eb",
   "metadata": {},
   "outputs": [],
   "source": [
    "increase = gdf_municities[(gdf_municities.pop2020 - gdf_municities.pop2015) > 50000]\n",
    "increase"
   ]
  },
  {
   "cell_type": "markdown",
   "id": "c192545d-a675-41bd-a5ea-1518a152b124",
   "metadata": {},
   "source": [
    "### CRS handling\n",
    "\n",
    "GeoPandas is able to handle CRS.\n",
    "\n",
    "Let's try to use it to convert our NCR municities data to PRS 92 Zone 3."
   ]
  },
  {
   "cell_type": "code",
   "execution_count": null,
   "id": "3a555670-3aea-4c1c-accf-92102e1df9f9",
   "metadata": {},
   "outputs": [],
   "source": [
    "import geopandas as gpd\n",
    "\n",
    "gdf_municities = gpd.read_file(\"data/phl.gpkg\", layer='ncr_municities_pop')"
   ]
  },
  {
   "cell_type": "code",
   "execution_count": null,
   "id": "2972cbc3-98bf-49c6-a409-d3ece23f2a3b",
   "metadata": {},
   "outputs": [],
   "source": [
    "gdf_municities.crs"
   ]
  },
  {
   "cell_type": "code",
   "execution_count": null,
   "id": "311e6467-ad82-4cc3-aa78-b99650feb519",
   "metadata": {},
   "outputs": [],
   "source": [
    "gdf_municities_3123 = gdf_municities.to_crs(3123)"
   ]
  },
  {
   "cell_type": "code",
   "execution_count": null,
   "id": "edd69817-7b87-41ab-a9a9-1e44f5b39944",
   "metadata": {},
   "outputs": [],
   "source": [
    "gdf_municities_3123"
   ]
  },
  {
   "cell_type": "markdown",
   "id": "c5a1f12c-27ae-432e-ae8f-0d989cd41a9d",
   "metadata": {},
   "source": [
    "### Area computation"
   ]
  },
  {
   "cell_type": "code",
   "execution_count": null,
   "id": "f77681b9-20b7-484d-9545-c7c5c5796ca5",
   "metadata": {},
   "outputs": [],
   "source": [
    "gdf_municities_3123.area # in sqm"
   ]
  },
  {
   "cell_type": "code",
   "execution_count": null,
   "id": "83566ef8-1af5-4ff2-bd36-9435a7bd46b7",
   "metadata": {},
   "outputs": [],
   "source": [
    "gdf_municities_3123.area/100 # in 100 sqm"
   ]
  },
  {
   "cell_type": "markdown",
   "id": "b9504740-ae9e-413c-8145-35938d068bbf",
   "metadata": {},
   "source": [
    "## Challenge 10:\n",
    "1. Improve your script in Challenge 9 to include the computation of population density per 100sqm"
   ]
  },
  {
   "cell_type": "markdown",
   "id": "49eef3de-8fff-4cb7-8cf7-93dbf4e799f9",
   "metadata": {},
   "source": [
    "### Attribute joins"
   ]
  },
  {
   "cell_type": "code",
   "execution_count": null,
   "id": "279c7b12-0eae-4c29-bbcd-9833cf5f4e28",
   "metadata": {},
   "outputs": [],
   "source": [
    "ncr_pop1990_2010 = pd.read_csv(\"data/ncr_pop1990_2010.csv\")\n",
    "ncr_pop1990_2010"
   ]
  },
  {
   "cell_type": "code",
   "execution_count": null,
   "id": "7d44cf2f-54f6-475a-a10c-df73fd8f2c68",
   "metadata": {},
   "outputs": [],
   "source": [
    "gdf_municities_pop1990_2020 = gdf_municities_3123.merge(ncr_pop1990_2010, on=\"psgc_municity\")"
   ]
  },
  {
   "cell_type": "markdown",
   "id": "59757f03-bb07-413a-b8eb-10adfb73703b",
   "metadata": {},
   "source": [
    "**IMPORTANT: Column or index level names to join on must be found in both DataFrames (i.e. same name).**\n",
    "\n",
    "**IMPORTANT: If both key columns contain rows where the key is a null value, those rows will be matched against each other. This is different from usual SQL join behaviour and can lead to unexpected results.**"
   ]
  },
  {
   "cell_type": "code",
   "execution_count": null,
   "id": "c48a839e-0724-40d1-94ce-7db84595e34a",
   "metadata": {},
   "outputs": [],
   "source": [
    "gdf_municities_pop1990_2020"
   ]
  },
  {
   "cell_type": "markdown",
   "id": "d9ce2bab-b920-40c8-9c0c-909514947f48",
   "metadata": {},
   "source": [
    "1. Notice that we have two municity fields in the joined output.\n",
    "2. Let's remove the extra field and rename the remaining one"
   ]
  },
  {
   "cell_type": "code",
   "execution_count": null,
   "id": "1b957f0c-6a4f-445e-bd89-b31dffe40132",
   "metadata": {},
   "outputs": [],
   "source": [
    "gdf_municities_pop1990_2020 = gdf_municities_3123.merge(ncr_pop1990_2010, on=\"psgc_municity\")\n",
    "gdf_municities_pop1990_2020 = gdf_municities_pop1990_2020.drop(\"municity_y\", axis=1)\n",
    "gdf_municities_pop1990_2020"
   ]
  },
  {
   "cell_type": "markdown",
   "id": "3571c402-464e-487c-8bd9-568065057d1c",
   "metadata": {},
   "source": [
    "You can also use `del`"
   ]
  },
  {
   "cell_type": "code",
   "execution_count": null,
   "id": "fcc6be01-f76e-4e95-ade1-fbd1097c44da",
   "metadata": {},
   "outputs": [],
   "source": [
    "gdf_municities_pop1990_2020 = gdf_municities_3123.merge(ncr_pop1990_2010, on=\"psgc_municity\")\n",
    "del gdf_municities_pop1990_2020[\"municity_y\"]\n",
    "gdf_municities_pop1990_2020"
   ]
  },
  {
   "cell_type": "code",
   "execution_count": null,
   "id": "051d70c3-131b-48ee-bed8-528982ff3bde",
   "metadata": {},
   "outputs": [],
   "source": [
    "gdf_municities_pop1990_2020.rename(columns={'municity_x':'municity'}, inplace=True)"
   ]
  },
  {
   "cell_type": "code",
   "execution_count": null,
   "id": "e0aff1b5-589c-4114-ad11-b643893e1b2a",
   "metadata": {},
   "outputs": [],
   "source": [
    "gdf_municities_pop1990_2020"
   ]
  },
  {
   "cell_type": "markdown",
   "id": "f3e5565a-3864-45c0-93f8-56c2eed4252d",
   "metadata": {},
   "source": [
    "## Challenge 11:\n",
    "1. Compute for a simple annual average rate of change of the population from 1990 to 2020 for each municity.\n",
    "2. Map the results."
   ]
  },
  {
   "cell_type": "markdown",
   "id": "23451a03-9dad-44ae-ab13-f3167728162f",
   "metadata": {},
   "source": [
    "### Spatial Joins\n",
    "Pandas has support for spatial joins\n",
    "https://geopandas.org/en/stable/gallery/spatial_joins.html"
   ]
  },
  {
   "cell_type": "code",
   "execution_count": null,
   "id": "0f8bb428-a0a8-4456-b536-4759f956e9ec",
   "metadata": {},
   "outputs": [],
   "source": [
    "gdf_ncr_floods = gpd.read_file(\"data/ncr.gpkg\", layer=\"manila_flood_hazard_lipad\")\n",
    "gdf_ncr_hospitals = gpd.read_file(\"data/ncr.gpkg\", layer=\"manila_hospitals_osm\")"
   ]
  },
  {
   "cell_type": "code",
   "execution_count": null,
   "id": "7967dd9c-7056-46d3-a0b2-0f6eb6a9ab49",
   "metadata": {},
   "outputs": [],
   "source": [
    "gdf_ncr_hospitals"
   ]
  },
  {
   "cell_type": "code",
   "execution_count": null,
   "id": "d8caa32c-f261-4a16-b780-029ac186c05e",
   "metadata": {
    "scrolled": true
   },
   "outputs": [],
   "source": [
    "gdf_ncr_floods.explore(\"hazard\", legend=\"True\")"
   ]
  },
  {
   "cell_type": "code",
   "execution_count": null,
   "id": "0bb43b06-b364-435c-878d-02d2ed34fc3d",
   "metadata": {},
   "outputs": [],
   "source": [
    "gdf_ncr_hospitals.explore()"
   ]
  },
  {
   "cell_type": "code",
   "execution_count": null,
   "id": "4d0a6bca-6344-40ee-a9d4-f3ebcfa2e93e",
   "metadata": {},
   "outputs": [],
   "source": [
    "hospitals_join = gdf_ncr_hospitals.sjoin(gdf_ncr_floods, how=\"left\")"
   ]
  },
  {
   "cell_type": "code",
   "execution_count": null,
   "id": "0edc2dc2-fe65-4dee-832e-e815c2767446",
   "metadata": {},
   "outputs": [],
   "source": [
    "hospitals_join"
   ]
  },
  {
   "cell_type": "code",
   "execution_count": null,
   "id": "d3d9c87d-25fd-4b15-90bb-41e7090b4df0",
   "metadata": {},
   "outputs": [],
   "source": [
    "hospitals_join.explore(\"hazard\", legend=\"True\")"
   ]
  },
  {
   "cell_type": "markdown",
   "id": "1768e1d1-c40d-4e87-9e80-3d397fc28123",
   "metadata": {},
   "source": [
    "## Challenge 12:\n",
    "1. Go over the GeoPandas explore documentation (https://geopandas.org/en/stable/docs/reference/api/geopandas.GeoDataFrame.explore.html) and improve/update the style of your maps."
   ]
  }
 ],
 "metadata": {
  "kernelspec": {
   "display_name": "Python 3 (ipykernel)",
   "language": "python",
   "name": "python3"
  },
  "language_info": {
   "codemirror_mode": {
    "name": "ipython",
    "version": 3
   },
   "file_extension": ".py",
   "mimetype": "text/x-python",
   "name": "python",
   "nbconvert_exporter": "python",
   "pygments_lexer": "ipython3",
   "version": "3.11.7"
  }
 },
 "nbformat": 4,
 "nbformat_minor": 5
}
