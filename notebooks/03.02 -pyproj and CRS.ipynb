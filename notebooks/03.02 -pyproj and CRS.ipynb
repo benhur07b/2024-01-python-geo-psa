{
 "cells": [
  {
   "cell_type": "markdown",
   "id": "affb3f57-2b27-449f-b73a-346786124cfa",
   "metadata": {},
   "source": [
    "# pyproj and Coordinate/Spatial Reference Systems\n",
    "\n",
    "A Coordinate Reference System (CRS) is used to specify the location of an object on the surface of the earth through the use of coordinates.\n",
    "\n",
    "Coordinate reference systems can be classified into two:\n",
    "- **Geographic Coordinate Reference Systems** use degrees of latitude and longitude as coordinates to refer to position.\n",
    "- **Projected Coordinate Reference Systems** use linear units (e.g. meters, feet, kilometers) of eastings and northings as coordinates.\n",
    "T\n",
    "here are other coordinate reference systems out there but these are the “classic” or “conventional” ones. Can you name some unconventional coordinate or geocode systems?\n",
    "\n",
    "Knowledge of coordinate reference systems is important because even if two maps (or layers) show the same area, the coordinates of the locations in those maps will be different if the CRS they use are different.\n",
    "\n",
    "**Take this example**: Map A and Map B show the same area and extent. They’re basically the same map. The only difference is the coordinate reference system they use. Map A uses CRS X and Map B uses CRS Y. Let’s say we get the coordinate of Point 1, which is (10, 10), from Map A. If we look at the coordinate (10,10) in Map B, it’s possible that Point 1 won’t be there since Map B uses a different CRS. Or if you overlay the maps over each other using a common reference, the features on the two maps won’t coincide. This knowledge of coordinate reference systems is important in any GIS.\n",
    "\n",
    "You may notice that some Coordinate Reference Systems are referred to by their EPSG Code. This code refers to the CRS’ code in the EPSG Geodetic Parameter Dataset which is a registry of geodetic datums, spatial reference systems, Earth ellipsoids, coordinate transformations and related units of measurement. Most GIS, including QGIS, refer to the EPSG code to identify coordinate reference systems, projections, and perform transformations between these systems.\n",
    "\n",
    "Common EPSG Codes include:\n",
    "- EPSG:4326 - WGS 84, latitude/longitude coordinate system based used by the Global Positioning System (GPS) among others.\n",
    "- EPSG:3857 - Web Mercator projection used for display by many web-based mapping tools such as OpenStreetMap and Google Maps\n",
    "- EPSG:32650 to EPSG 32653 - Universal Transverse Mercator (UTM) Zone 50N to 53N. UTM zones used in the Philippines\n",
    "- EPSG:4683 - Philippine Reference System of 1992\n",
    "\n",
    "At it's simplest, a CRS or SRS is composed of a:\n",
    "- **datum** - a model that approximates the shape of the Earth (usually a sphere or ellipsoid)\n",
    "- **map projection** - a set of mathematical functions that translate locations in the surface of the datum into the Cartesian plane\n",
    "\n",
    "\n"
   ]
  },
  {
   "cell_type": "markdown",
   "id": "61bf9a81-83a0-442c-a89e-11ed9cd2304d",
   "metadata": {},
   "source": [
    "## Libraries for handling reference systems\n",
    "### PROJ\n",
    "- https://proj.org\n",
    "- open source library that implements cartographic projects and geodetic datums (see: https://proj.org/operations/projections/index.html)\n",
    "- [pyproj](https://pyproj4.github.io/pyproj/stable/) is the Python inteface to proj\n",
    "\n",
    "### GDAL/OGR\n",
    "- https://gdal.org/\n",
    "- The GDAL Python API also has some CRS functions via the [osgeo.osr](https://gdal.org/api/python/osgeo.osr.html) submodule"
   ]
  },
  {
   "cell_type": "markdown",
   "id": "d07d9f0f-a4ee-44f1-a305-1925b3353c10",
   "metadata": {},
   "source": [
    "## Creating a new CRS in pyproj\n",
    "\n",
    "pyproj implements a [`CRS`](https://pyproj4.github.io/pyproj/dev/api/crs/crs.html) class that can be instantiated in different ways."
   ]
  },
  {
   "cell_type": "markdown",
   "id": "a66fd680-68e3-42cf-9385-74f2c718deb4",
   "metadata": {},
   "source": [
    "If you want to find different CRS definitions, you can check out: [epsg.io](https://epsg.io)\n",
    "\n",
    "For example: PRS92 (https://epsg.io/3124)"
   ]
  },
  {
   "cell_type": "markdown",
   "id": "f61ab1e2-8261-4d2f-9857-73c40794b6ba",
   "metadata": {},
   "source": [
    "### From PROJ4 string"
   ]
  },
  {
   "cell_type": "code",
   "execution_count": null,
   "id": "f4f790fb-74d4-4b9c-9f04-92329bf2c0ac",
   "metadata": {},
   "outputs": [],
   "source": [
    "from pyproj import CRS\n",
    "prs92 = CRS.from_proj4(\"+proj=tmerc +lat_0=0 +lon_0=123 +k=0.99995 +x_0=500000 +y_0=0 +ellps=clrk66 +towgs84=-127.62,-67.24,-47.04,3.068,-4.903,-1.578,-1.06 +units=m +no_defs +type=crs\")\n",
    "prs92"
   ]
  },
  {
   "cell_type": "markdown",
   "id": "6ee3c9fc-0ccb-46bd-b8f1-6981c4261097",
   "metadata": {},
   "source": [
    "### From [OGC WKT](https://www.ogc.org/standard/wkt-crs/) definition\n",
    "\n"
   ]
  },
  {
   "cell_type": "code",
   "execution_count": null,
   "id": "eb5dc4b7-6de4-4d21-bd80-094a4d06e189",
   "metadata": {},
   "outputs": [],
   "source": [
    "from pyproj import CRS\n",
    "\n",
    "prs92_ogc_wkt = '''\n",
    "    PROJCS[\"PRS92 / Philippines zone 4\",\n",
    "        GEOGCS[\"PRS92\",\n",
    "            DATUM[\"Philippine_Reference_System_1992\",\n",
    "                SPHEROID[\"Clarke 1866\",6378206.4,294.978698213898],\n",
    "                TOWGS84[-127.62,-67.24,-47.04,3.068,-4.903,-1.578,-1.06]],\n",
    "            PRIMEM[\"Greenwich\",0,\n",
    "                AUTHORITY[\"EPSG\",\"8901\"]],\n",
    "            UNIT[\"degree\",0.0174532925199433,\n",
    "                AUTHORITY[\"EPSG\",\"9122\"]],\n",
    "            AUTHORITY[\"EPSG\",\"4683\"]],\n",
    "        PROJECTION[\"Transverse_Mercator\"],\n",
    "        PARAMETER[\"latitude_of_origin\",0],\n",
    "        PARAMETER[\"central_meridian\",123],\n",
    "        PARAMETER[\"scale_factor\",0.99995],\n",
    "        PARAMETER[\"false_easting\",500000],\n",
    "        PARAMETER[\"false_northing\",0],\n",
    "        UNIT[\"metre\",1,\n",
    "            AUTHORITY[\"EPSG\",\"9001\"]],\n",
    "        AXIS[\"Easting\",EAST],\n",
    "        AXIS[\"Northing\",NORTH],\n",
    "        AUTHORITY[\"EPSG\",\"3124\"]]'''\n",
    "\n",
    "prs92 = CRS.from_wkt(prs92_ogc_wkt)\n",
    "prs92"
   ]
  },
  {
   "cell_type": "markdown",
   "id": "55ae1f47-7939-41dd-ba4b-bd2f6924703c",
   "metadata": {},
   "source": [
    "### From EPSG code"
   ]
  },
  {
   "cell_type": "code",
   "execution_count": null,
   "id": "1f726fb4-cc5a-418b-a2fc-356ff3b40587",
   "metadata": {},
   "outputs": [],
   "source": [
    "from pyproj import CRS\n",
    "prs92_zone3 = CRS.from_epsg(3123)\n",
    "prs92_zone3"
   ]
  },
  {
   "cell_type": "markdown",
   "id": "caa2a8c9-71bf-45bd-986b-93d2ac02d0ec",
   "metadata": {},
   "source": [
    "### Coordinate transformations"
   ]
  },
  {
   "cell_type": "code",
   "execution_count": null,
   "id": "9d2abc31-2865-4d0c-83b2-521467c37bc5",
   "metadata": {},
   "outputs": [],
   "source": [
    "from pyproj import CRS, Transformer\n",
    "\n",
    "wgs84 = CRS.from_epsg(4326)\n",
    "phl_prs92_zone3 = CRS.from_epsg(3123)\n",
    "\n",
    "transformToPRS92_Zone3 = Transformer.from_crs(wgs84, phl_prs92_zone3)\n",
    "\n",
    "transformToPRS92_Zone3.transform(14.0, 121.0) # (lat, lon) !important"
   ]
  },
  {
   "cell_type": "markdown",
   "id": "989df307-33a8-40f6-a8e6-442df6bf6160",
   "metadata": {},
   "source": [
    "## Example"
   ]
  },
  {
   "cell_type": "code",
   "execution_count": null,
   "id": "9d00286f-fe08-489e-a412-09ea31ec6d7f",
   "metadata": {},
   "outputs": [],
   "source": [
    "import fiona\n",
    "ncr = fiona.open('data/phl.gpkg', layer=\"ncr\")\n",
    "ncr.crs_wkt"
   ]
  },
  {
   "cell_type": "code",
   "execution_count": null,
   "id": "d3ab279a-19e5-45a0-a37c-dfacb6397279",
   "metadata": {},
   "outputs": [],
   "source": [
    "from matplotlib import pyplot as plt\n",
    "from shapely.geometry import shape\n",
    "\n",
    "feature = next(iter(ncr))\n",
    "boundaries = shape(feature[\"geometry\"])\n",
    "\n",
    "x,y = boundaries.geoms[0].exterior.xy\n",
    "\n",
    "fig = plt.figure(1, dpi=120)\n",
    "# Without equal aspect the map can be distorted\n",
    "ax = fig.add_subplot(111, aspect='equal') \n",
    "ax.plot(x, y, color='#2f9e44', alpha=0.5,\n",
    "    linewidth=1, solid_capstyle='round', zorder=2)\n",
    "ax.set_title('NCR - WGS84')"
   ]
  },
  {
   "cell_type": "markdown",
   "id": "d4c7a059-0f2a-4216-b0be-1e196b52837e",
   "metadata": {},
   "source": [
    "Instead of WGS84, let's use PRS 92 Zone 3."
   ]
  },
  {
   "cell_type": "code",
   "execution_count": null,
   "id": "615dd9f4-061b-44bb-8ab7-135e51ba38a6",
   "metadata": {},
   "outputs": [],
   "source": [
    "transformed_coords = transformToPRS92_Zone3.transform(y, x)  # y = latitude\n",
    "\n",
    "fig = plt.figure(1, dpi=120)\n",
    "ax = fig.add_subplot(111, aspect='equal')\n",
    "ax.plot(transformed_coords[0], transformed_coords[1], color='#2f9e44', alpha=0.5,\n",
    "    linewidth=1, solid_capstyle='round', zorder=2)   \n",
    "ax.set_title('NCR - PRS 92 Zone 3')"
   ]
  },
  {
   "cell_type": "code",
   "execution_count": null,
   "id": "8e1e97c1-1b2c-4cf0-bfee-400588503081",
   "metadata": {},
   "outputs": [],
   "source": []
  }
 ],
 "metadata": {
  "kernelspec": {
   "display_name": "Python 3 (ipykernel)",
   "language": "python",
   "name": "python3"
  },
  "language_info": {
   "codemirror_mode": {
    "name": "ipython",
    "version": 3
   },
   "file_extension": ".py",
   "mimetype": "text/x-python",
   "name": "python",
   "nbconvert_exporter": "python",
   "pygments_lexer": "ipython3",
   "version": "3.11.7"
  }
 },
 "nbformat": 4,
 "nbformat_minor": 5
}
