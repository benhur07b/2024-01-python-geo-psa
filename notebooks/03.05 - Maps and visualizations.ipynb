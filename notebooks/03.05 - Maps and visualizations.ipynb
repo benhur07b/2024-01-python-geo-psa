{
 "cells": [
  {
   "cell_type": "markdown",
   "id": "69b0cc8f-1552-45df-bedc-2789f557ffc1",
   "metadata": {},
   "source": [
    "# Maps and visualizations\n"
   ]
  },
  {
   "cell_type": "markdown",
   "id": "64a15521-35f7-47af-887a-bfb0e5ee9318",
   "metadata": {},
   "source": [
    "## folium\n",
    "- https://python-visualization.github.io/folium/latest/\n",
    "- Facilitates easy visualization of Python-manipulated data on interactive leaflet maps.\n",
    "- Allows binding data to a map for choropleth visualizations.\n",
    "- Rich vector, raster, and HTML visualizations as markers on the map.\n",
    "- Built-in tilesets from sources like OpenStreetMap, Mapbox, etc.\n",
    "- Use of custom tilesets.\n",
    "- Overlays including Image, Video, GeoJSON, and TopoJSON.\n",
    "- Built-in vector layers for enhanced map representation."
   ]
  },
  {
   "cell_type": "code",
   "execution_count": null,
   "id": "e18e03bc-5df0-4a7d-860b-f88643da1989",
   "metadata": {
    "scrolled": true
   },
   "outputs": [],
   "source": [
    "import folium\n",
    "\n",
    "fmap = folium.Map(location=[14.603722, 121.381592], zoom_start=10) # location is lat, lon\n",
    "fmap"
   ]
  },
  {
   "cell_type": "code",
   "execution_count": null,
   "id": "5f18a31e-b7a7-4d14-9bd4-1e1d9615dec8",
   "metadata": {},
   "outputs": [],
   "source": [
    "fmap.save('outputs/folium-basic.html')"
   ]
  },
  {
   "cell_type": "code",
   "execution_count": null,
   "id": "8b3d869d-9d7e-4dcf-9422-c681462cb261",
   "metadata": {},
   "outputs": [],
   "source": [
    "ncr_municities = \"data/ncr_municities_pop.geojson\"\n",
    "\n",
    "fmap2 = folium.Map(location=[14.603722, 121.081592], zoom_start=11) # location is lat, lon\n",
    "\n",
    "folium.GeoJson(ncr_municities, \n",
    "               name=\"municities\",\n",
    "              ).add_to(fmap2)\n",
    "fmap2"
   ]
  },
  {
   "cell_type": "code",
   "execution_count": null,
   "id": "ef6c3788-3b6a-4531-90bb-7b6995ee6c0b",
   "metadata": {},
   "outputs": [],
   "source": [
    "folium.LayerControl().add_to(fmap2)"
   ]
  },
  {
   "cell_type": "markdown",
   "id": "2f6bdab9-2f2d-430f-b2b4-a52c814782b6",
   "metadata": {},
   "source": [
    "### Add popup"
   ]
  },
  {
   "cell_type": "code",
   "execution_count": null,
   "id": "a7cc2462-2802-4570-bb21-291745a34c9a",
   "metadata": {},
   "outputs": [],
   "source": [
    "ncr_municities = \"data/ncr_municities_pop.geojson\"\n",
    "\n",
    "fmap2 = folium.Map(location=[14.603722, 121.081592], zoom_start=11) # location is lat, lon\n",
    "\n",
    "popup = folium.GeoJsonPopup(fields=[\"municity\", \"pop2020\"])\n",
    "\n",
    "folium.GeoJson(ncr_municities, \n",
    "               name=\"municities\",\n",
    "               popup=popup\n",
    "              ).add_to(fmap2)\n",
    "fmap2"
   ]
  },
  {
   "cell_type": "markdown",
   "id": "92161689-b3c7-406f-830f-b82b0525589d",
   "metadata": {},
   "source": [
    "## ipyleaflet\n",
    "- https://ipyleaflet.readthedocs.io/en/latest/\n",
    "- Jupyter widget for Leaflet.js.\n",
    "- Enables interactive maps directly in the Jupyter notebook.\n",
    "- All objects in Ipyleaflet, such as Map, TileLayers, Layers, and Controls, are interactive.\n",
    "- Attributes can be dynamically updated from Python or the browser.\n",
    "- Basemaps: https://ipyleaflet.readthedocs.io/en/latest/map_and_basemaps/basemaps.html"
   ]
  },
  {
   "cell_type": "code",
   "execution_count": null,
   "id": "fba27f19-b1ec-4a03-ac1e-64343f19fce6",
   "metadata": {},
   "outputs": [],
   "source": [
    "from ipyleaflet import Map, basemaps, basemap_to_tiles\n",
    "\n",
    "ipymap = Map(\n",
    "    basemap=basemap_to_tiles(basemaps.OpenTopoMap),\n",
    "    center=(14.603722, 121.081592),\n",
    "    zoom=11\n",
    ")\n",
    "\n",
    "ipymap"
   ]
  },
  {
   "cell_type": "code",
   "execution_count": null,
   "id": "b1bfd281-0c2e-4c73-bf1d-c23cdf29d2a9",
   "metadata": {},
   "outputs": [],
   "source": [
    "import json\n",
    "import random\n",
    "from ipyleaflet import Map, GeoJSON\n",
    "\n",
    "ipymap = Map(\n",
    "    basemap=basemap_to_tiles(basemaps.CartoDB.Positron),\n",
    "    center=(14.603722, 121.081592),\n",
    "    zoom=11\n",
    ")\n",
    "\n",
    "def random_color(feature):\n",
    "    return {\n",
    "        'color': 'black',\n",
    "        'fillColor': random.choice(['red', 'yellow', 'green', 'orange']),\n",
    "    }\n",
    "\n",
    "with open('data/ncr_municities_pop.geojson', 'r') as f:\n",
    "    data = json.load(f)\n",
    "\n",
    "geo_json = GeoJSON(\n",
    "    data=data,\n",
    "    style={\n",
    "        'opacity': 1, 'dashArray': '9', 'fillOpacity': 0.1, 'weight': 1\n",
    "    },\n",
    "    hover_style={\n",
    "        'color': 'white', 'dashArray': '0', 'fillOpacity': 0.5\n",
    "    },\n",
    "    style_callback=random_color\n",
    ")\n",
    "\n",
    "ipymap.add(geo_json)\n",
    "\n",
    "ipymap"
   ]
  },
  {
   "cell_type": "markdown",
   "id": "ed27d65c-0553-436b-96ef-292b941941f3",
   "metadata": {},
   "source": [
    "## leafmap\n",
    "- https://leafmap.org/\n",
    "- Python package for interactive mapping and geospatial analysis.\n",
    "- Minimal coding required in Jupyter environments like Google Colab, Jupyter Notebook, and JupyterLab.\n",
    "- A spin-off project of the geemap package, initially designed for Google Earth Engine (GEE) users.\n",
    "- Developed to cater to the geospatial community without access to the GEE cloud computing platform.\n",
    "- Free and open-source, providing users with the ability to analyze and visualize geospatial data.\n",
    "- Built upon various open-source packages, including folium and ipyleaflet for interactive maps, WhiteboxTools and whiteboxgui for geospatial data analysis, and ipywidgets for designing interactive graphical user interfaces (GUIs)."
   ]
  },
  {
   "cell_type": "code",
   "execution_count": null,
   "id": "02e4291f-4fd1-48e8-be51-b999acbf50d0",
   "metadata": {
    "scrolled": true
   },
   "outputs": [],
   "source": [
    "import leafmap\n",
    "\n",
    "lmap = leafmap.Map(center=(14.603722, 121.081592), zoom=11)\n",
    "lmap"
   ]
  },
  {
   "cell_type": "markdown",
   "id": "64e6a1c7-3adc-4378-9ba4-79da1b1614e0",
   "metadata": {},
   "source": [
    "### Map controls"
   ]
  },
  {
   "cell_type": "code",
   "execution_count": null,
   "id": "eec1cff5-4526-40d6-9c91-5af886db921d",
   "metadata": {
    "scrolled": true
   },
   "outputs": [],
   "source": [
    "lmap = leafmap.Map(\n",
    "    draw_control=False,\n",
    "    measure_control=False,\n",
    "    fullscreen_control=False,\n",
    "    attribution_control=True,\n",
    ")\n",
    "\n",
    "lmap"
   ]
  },
  {
   "cell_type": "markdown",
   "id": "23b5b591-5115-407a-bf66-5264f1fb378c",
   "metadata": {},
   "source": [
    "### Edit map"
   ]
  },
  {
   "cell_type": "code",
   "execution_count": null,
   "id": "f9a6d2bd-b4d1-4778-8b96-96b11a970df0",
   "metadata": {
    "scrolled": true
   },
   "outputs": [],
   "source": [
    "lmap = leafmap.Map(center=(14.603722, 121.081592),\n",
    "                   zoom=11,\n",
    "                   height=\"400px\",\n",
    "                   width=\"800px\")\n",
    "lmap"
   ]
  },
  {
   "cell_type": "markdown",
   "id": "aeba48f9-25a2-4f6d-a510-ea78f0681043",
   "metadata": {},
   "source": [
    "### Change basemap"
   ]
  },
  {
   "cell_type": "code",
   "execution_count": null,
   "id": "3354cc35-6dc6-4e62-9ce5-1042a670ff87",
   "metadata": {},
   "outputs": [],
   "source": [
    "lmap = leafmap.Map(center=(14.603722, 121.081592),\n",
    "                   zoom=11)\n",
    "\n",
    "lmap.add_basemap(\"OpenTopoMap\")\n",
    "lmap"
   ]
  },
  {
   "cell_type": "markdown",
   "id": "3a8e7525-4196-4d59-944a-d1e86050432a",
   "metadata": {},
   "source": [
    "### Add layers"
   ]
  },
  {
   "cell_type": "code",
   "execution_count": null,
   "id": "32e80cf8-5477-4d7c-960f-95ee60cabd0b",
   "metadata": {},
   "outputs": [],
   "source": [
    "# XYZ tiles\n",
    "\n",
    "lmap.add_tile_layer(\n",
    "    url=\"https://mt1.google.com/vt/lyrs=y&x={x}&y={y}&z={z}\",\n",
    "    name=\"Google Satellite\",\n",
    "    attribution=\"Google\",\n",
    ")\n",
    "\n",
    "lmap"
   ]
  },
  {
   "cell_type": "markdown",
   "id": "c1db9a9e-5a90-4895-9624-2c3d380422be",
   "metadata": {},
   "source": [
    "## Challenge 12\n",
    "\n",
    "1. Try to load the Philippine GeoPortal Basemap\n",
    "\n",
    "url: https://basemapserver.geoportal.gov.ph/tiles/v2/PGP/{z}/{x}/{y}.png"
   ]
  },
  {
   "cell_type": "code",
   "execution_count": null,
   "id": "1af96334-125e-4e0c-ac5f-cd5b69416fa6",
   "metadata": {},
   "outputs": [],
   "source": [
    "lmap2 = leafmap.Map(center=(14.603722, 121.081592),\n",
    "                   zoom=11)\n",
    "pgp_url = 'https://geoserver.geoportal.gov.ph/geoserver/geoportal/wms?'\n",
    "lmap2.add_wms_layer(\n",
    "    url=pgp_url,\n",
    "    layers='slp_ncr',\n",
    "    name='Slope NCR',\n",
    "    attribution='NAMRIA',\n",
    "    format='image/png',\n",
    "    shown=True,\n",
    ")\n",
    "\n",
    "lmap2"
   ]
  },
  {
   "cell_type": "code",
   "execution_count": null,
   "id": "fe663eac-d585-43d8-b69d-0a470f59cc29",
   "metadata": {},
   "outputs": [],
   "source": []
  }
 ],
 "metadata": {
  "kernelspec": {
   "display_name": "Python 3 (ipykernel)",
   "language": "python",
   "name": "python3"
  },
  "language_info": {
   "codemirror_mode": {
    "name": "ipython",
    "version": 3
   },
   "file_extension": ".py",
   "mimetype": "text/x-python",
   "name": "python",
   "nbconvert_exporter": "python",
   "pygments_lexer": "ipython3",
   "version": "3.11.7"
  }
 },
 "nbformat": 4,
 "nbformat_minor": 5
}
