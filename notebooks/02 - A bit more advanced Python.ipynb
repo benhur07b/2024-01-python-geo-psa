{
 "cells": [
  {
   "cell_type": "markdown",
   "id": "76a943ad-a42b-4c86-b69d-5f2ee3e29db4",
   "metadata": {},
   "source": [
    "# A bit more advanced Python\n",
    "\n",
    "This notebook introduces concepts and applications to take your Python knowledge beyond the basics"
   ]
  },
  {
   "cell_type": "markdown",
   "id": "30c4d8d9-06e6-481d-aa9c-46a57e3049f1",
   "metadata": {},
   "source": [
    "## Data structures\n",
    "\n",
    "### Lists\n",
    "Think of a list as a n array of items stored in sequential order. Lists are identified/created using **square brackets [ ]**.\n",
    "\n",
    "Lists are:\n",
    "- **Ordered**: the items have a defined order, and that order will not change\n",
    "- **Mutable**: they can be modified (change, add, remove items) after they are created\n",
    "- **Allows duplicates**: list items can have the same value\n",
    "\n",
    "A list can contain objects of different data types (int, float, char, list). In fact, a list can contain other lists. This list within a list is known as a nested list."
   ]
  },
  {
   "cell_type": "code",
   "execution_count": null,
   "id": "56d403fc-3bd7-4f7b-b204-abee9c917554",
   "metadata": {},
   "outputs": [],
   "source": [
    "# creating a list\n",
    "sample_list = ['QGIS', 3.0, 'PyQGIS', 'GIS']"
   ]
  },
  {
   "cell_type": "markdown",
   "id": "21f587db-c7e8-4b4c-9a14-b1660d1f7067",
   "metadata": {},
   "source": [
    "#### Accessing list items/elements\n",
    "List items are accessed using their index. The first item on the list always has an index of 0."
   ]
  },
  {
   "cell_type": "code",
   "execution_count": null,
   "id": "ebb636ed-cda3-4620-bbfa-2d6a3137d800",
   "metadata": {},
   "outputs": [],
   "source": [
    "# get first item in list\n",
    "sample_list[0]"
   ]
  },
  {
   "cell_type": "markdown",
   "id": "8800d8e5-0edd-420e-adaa-dbe23dfa21ac",
   "metadata": {},
   "source": [
    "A negative index (e.g. -1, -2) means to start from the end. -1 refers to the last item."
   ]
  },
  {
   "cell_type": "code",
   "execution_count": null,
   "id": "82588750-972d-4ecc-9607-79497939f27c",
   "metadata": {},
   "outputs": [],
   "source": [
    "# get the 2nd to the last item in the list\n",
    "sample_list[-2]"
   ]
  },
  {
   "cell_type": "markdown",
   "id": "94ba5278-52d6-4a1e-ad24-958dec2ea3b3",
   "metadata": {},
   "source": [
    "You can also get a range of values by specifying a range of indexes of where to start and where to end the range."
   ]
  },
  {
   "cell_type": "code",
   "execution_count": null,
   "id": "57924560-b405-409a-8deb-cc4157c4c0a2",
   "metadata": {},
   "outputs": [],
   "source": [
    "# get 2nd to 3rd item in list\n",
    "sample_list[1:3]"
   ]
  },
  {
   "cell_type": "markdown",
   "id": "e0f199ee-929a-447c-86b4-ea6fa8973e1c",
   "metadata": {},
   "source": [
    "#### Changing list items/elements\n",
    "Use the index number to change the value of a list item/element"
   ]
  },
  {
   "cell_type": "code",
   "execution_count": null,
   "id": "36b21cd5-e1b5-42ff-a020-8cb7acf76e2a",
   "metadata": {},
   "outputs": [],
   "source": [
    "# change the 4th item in the list\n",
    "sample_list[3] = ['Python', 3.8]\n",
    "\n",
    "sample_list"
   ]
  },
  {
   "cell_type": "markdown",
   "id": "713d986b-5f78-4243-92df-c2e8b0d3bc91",
   "metadata": {},
   "source": [
    "#### Accessing items in nested lists"
   ]
  },
  {
   "cell_type": "code",
   "execution_count": null,
   "id": "651191a4-6962-451c-a422-543d95e2f289",
   "metadata": {},
   "outputs": [],
   "source": [
    "# get the 2nd item inside the 4th item in the list\n",
    "sample_list[3][1]"
   ]
  },
  {
   "cell_type": "markdown",
   "id": "07128f30-b70a-4000-8fec-dff6f9f65dbb",
   "metadata": {},
   "source": [
    "## CHALLENGE 01: \n",
    "\n",
    "How do you change a range of values for a list?"
   ]
  },
  {
   "cell_type": "code",
   "execution_count": null,
   "id": "4c91b28d-555b-4843-8747-c564783fd023",
   "metadata": {},
   "outputs": [],
   "source": [
    "this_list = ['QGIS', 3.0, 'Girona', 'PyQGIS', 'GIS']\n",
    "\n",
    "# try to replace the 3.0 and 'Girona' with 3.34 and 'Prizren' using one command"
   ]
  },
  {
   "cell_type": "markdown",
   "id": "765bc9a6-a18e-4fc4-96b0-147de0a698d1",
   "metadata": {},
   "source": [
    "#### Remove items in a list\n",
    "- `remove()`: removes the first occurance of an item\n",
    "- `pop()`: removes the specified index"
   ]
  },
  {
   "cell_type": "code",
   "execution_count": null,
   "id": "a2aa5e13-61be-40ed-86a4-7fd11cae7259",
   "metadata": {},
   "outputs": [],
   "source": [
    "gis_list = ['QGIS', 'GRASS', 'gvSIG', 'SAGA', 'ArcGIS', 'SuperMap']\n",
    "\n",
    "gis_list.remove('ArcGIS')\n",
    "print(gis_list)"
   ]
  },
  {
   "cell_type": "code",
   "execution_count": null,
   "id": "becf090c-033f-4e3b-ae98-a7979a7129b3",
   "metadata": {},
   "outputs": [],
   "source": [
    "gis_list.pop(-1)\n",
    "print(gis_list)"
   ]
  },
  {
   "cell_type": "markdown",
   "id": "b9e2b3eb-26bd-46fd-b370-0c2a5dad212c",
   "metadata": {},
   "source": [
    "#### Sort list items\n",
    "- `sort()`: sort list alphanumerically, by default"
   ]
  },
  {
   "cell_type": "code",
   "execution_count": null,
   "id": "548d2032-db49-4507-b073-e96f4d96ee86",
   "metadata": {},
   "outputs": [],
   "source": [
    "gis_list = ['QGIS', 'GRASS', 'gvSIG', 'SAGA']\n",
    "gis_list.sort()\n",
    "print(gis_list)"
   ]
  },
  {
   "cell_type": "markdown",
   "id": "96bee4af-b18c-4d0f-ade5-e28ad233de14",
   "metadata": {},
   "source": [
    "**NOTICE THAT THE LIST IS EDITED IN PLACE**"
   ]
  },
  {
   "cell_type": "markdown",
   "id": "e7904c66-2b78-48a0-a6e5-5e8cd4bc101c",
   "metadata": {},
   "source": [
    "#### Joining lists\n",
    "- `+`\n",
    "- `append()`: appending all the items from one list to another using a for loop\n",
    "- `extend()`: add elements from one list to another list"
   ]
  },
  {
   "cell_type": "code",
   "execution_count": null,
   "id": "650f83c8-1557-40de-ab01-36e84751671d",
   "metadata": {},
   "outputs": [],
   "source": [
    "# +\n",
    "list1 = [\"Juan\", \"Pedro\", \"Maria\"]\n",
    "list2 = [33, 22, 19]\n",
    "\n",
    "list3 = list1 + list2\n",
    "print(list3)"
   ]
  },
  {
   "cell_type": "code",
   "execution_count": null,
   "id": "5d8d29d1-2853-49ce-aaec-c140853752ff",
   "metadata": {},
   "outputs": [],
   "source": [
    "# append()\n",
    "list1 = [\"Juan\", \"Pedro\", \"Maria\"]\n",
    "list2 = [33, 22, 19]\n",
    "\n",
    "for x in list2:\n",
    "    list1.append(x)\n",
    "\n",
    "print(list1)"
   ]
  },
  {
   "cell_type": "markdown",
   "id": "dbc0b9db-a5c4-47a9-b550-a8237a06e95f",
   "metadata": {},
   "source": [
    "**NOTICE THAT LIST1 IS EDITED**"
   ]
  },
  {
   "cell_type": "code",
   "execution_count": null,
   "id": "38f28ccb-1879-45d6-a910-b393d2e8c491",
   "metadata": {},
   "outputs": [],
   "source": [
    "# extend()\n",
    "list1 = [\"Juan\", \"Pedro\", \"Maria\"]\n",
    "list2 = [33, 22, 19]\n",
    "\n",
    "list1.extend(list2)\n",
    "print(list1)"
   ]
  },
  {
   "cell_type": "markdown",
   "id": "bcc276b4-e3ec-4e73-a791-4ef112ef09ad",
   "metadata": {},
   "source": [
    "**NOTICE THAT LIST1 IS EDITED**"
   ]
  },
  {
   "cell_type": "markdown",
   "id": "79618623-ed69-43a7-aa27-3f6daffbd28f",
   "metadata": {},
   "source": [
    "#### Looping lists and list comprehensions"
   ]
  },
  {
   "cell_type": "code",
   "execution_count": null,
   "id": "fd76c371-4bf7-4705-b4a9-8c754c151587",
   "metadata": {},
   "outputs": [],
   "source": [
    "# using a for loop\n",
    "gis_list = ['QGIS', 'GRASS', 'gvSIG', 'SAGA']\n",
    "\n",
    "for gis in gis_list:\n",
    "    print(gis)"
   ]
  },
  {
   "cell_type": "code",
   "execution_count": null,
   "id": "d6e4f0dd-c1f5-403d-9b4a-2b37f6dd79cb",
   "metadata": {},
   "outputs": [],
   "source": [
    "# using a for loop\n",
    "gis_list = ['QGIS', 'GRASS', 'gvSIG', 'SAGA']\n",
    "\n",
    "# list comprehension\n",
    "[print(gis) for gis in gis_list]"
   ]
  },
  {
   "cell_type": "markdown",
   "id": "45e47a4a-42e2-4538-8fb6-aac087987087",
   "metadata": {},
   "source": [
    "### Tuples\n",
    "Tuples are **immutable** lists—meaning they cannot be modified once created. Items in a tuple can be accessed similar to that of lists. A tuple is identified/created using a **parenthesis ( )**.\n",
    "\n",
    "Tuples are:\n",
    "- **Ordered**: the items have a defined order, and that order will not change\n",
    "- **Immutable**: they cannot be modified after they are created\n",
    "- **Allows duplicates**: tuple items can have the same value\n",
    "\n",
    "You can convert between tuples in lists using the ***tuple*** and ***list*** functions.\n",
    "\n",
    "**Why use tuples instead of lists?** They are more efficient than lists so it's best to use them for data that we know won't change."
   ]
  },
  {
   "cell_type": "code",
   "execution_count": null,
   "id": "84659de2-099e-4bc6-b9bd-e4114d86c5cc",
   "metadata": {},
   "outputs": [],
   "source": [
    "# convert list to a tuple \n",
    "gis_list = ['QGIS', 'GRASS', 'gvSIG', 'SAGA']\n",
    "\n",
    "gis_tuple = tuple(gis_list)\n",
    "gis_tuple"
   ]
  },
  {
   "cell_type": "markdown",
   "id": "4bdb9a1e-7cd7-4639-8f56-6aba5c7c9990",
   "metadata": {},
   "source": [
    "#### Unpacking a tuple"
   ]
  },
  {
   "cell_type": "code",
   "execution_count": null,
   "id": "2f8c2a2d-269d-4f3b-b56a-1cf6f9166705",
   "metadata": {},
   "outputs": [],
   "source": [
    "# pack values\n",
    "gis_tuple = ('QGIS', 'GRASS', 'gvSIG', 'SAGA')\n",
    "\n",
    "# unpack values\n",
    "(a, b, c, d) = gis_tuple\n",
    "print(a)"
   ]
  },
  {
   "cell_type": "markdown",
   "id": "9e27a5aa-91b4-47ad-bb80-863ae3c74e2d",
   "metadata": {},
   "source": [
    "### Sets\n",
    "\n",
    "Sets are:\n",
    "- **Unordered**: the items in a set do not have a defined order. Set items can appear in a different order every time you use them, and cannot be referred to by index or key.\n",
    "- **Immutable**: they cannot be modified after they are created\n",
    "- **Does not allow duplicates**: sets cannot have two items with the same value\n",
    "\n",
    "\n",
    "Sets are an easy way to get unique values from a list."
   ]
  },
  {
   "cell_type": "code",
   "execution_count": null,
   "id": "4c234fc4-6880-4946-9989-dd093c781738",
   "metadata": {},
   "outputs": [],
   "source": [
    "# Sample Python list with duplicates\n",
    "sample_list = [1, 2, 3, 4, 2, 5, 6, 3, 7, 8, 9, 1, 5, 10, 11, 12, 6, 13, 14, 15, 7, 16, 17, 18, 9, 19, 20]\n",
    "\n",
    "# Create a set from the list\n",
    "unique_set = set(sample_list)\n",
    "\n",
    "# Print the elements of the set\n",
    "print(\"Original List:\", sample_list)\n",
    "print(\"Set without Duplicates:\", unique_set)"
   ]
  },
  {
   "cell_type": "markdown",
   "id": "3e4d1d87-70a1-4dc3-9af0-6c0c95a6c051",
   "metadata": {},
   "source": [
    "### Dictionaries (dicts)\n",
    "\n",
    "- Dictionaries are used to store data values in key:value pairs.\n",
    "- As of Python version 3.7, dictionaries are ordered. In Python 3.6 and earlier, dictionaries are unordered.\n",
    "- Dicts consist of a set of keys and values that provide the ability to perform and indexed lookup.\n",
    "- Dictionaries are identified/created using **curly brackets { }**.\n",
    "\n",
    "Dicts are:\n",
    "- **Mutable**: they can be modified after they are created\n",
    "- **Does not allow duplicates**: dicts cannot have two items with the same key"
   ]
  },
  {
   "cell_type": "code",
   "execution_count": null,
   "id": "2fd6a4cd-d1e8-4f32-b935-a786bad0ff94",
   "metadata": {},
   "outputs": [],
   "source": [
    "# create a dict\n",
    "sample_dict = {\"qgis\":\"c++\", \"grass\":\"c\"}"
   ]
  },
  {
   "cell_type": "code",
   "execution_count": null,
   "id": "96382f21-f8f6-425c-a81f-94fe87fc4f22",
   "metadata": {},
   "outputs": [],
   "source": [
    "# get value of dict item with key 'grass'\n",
    "sample_dict['grass']"
   ]
  },
  {
   "cell_type": "markdown",
   "id": "daf5e8df-53ae-4308-b6c4-9c3a4bd86353",
   "metadata": {},
   "source": [
    "Dictionaries can also be created using the ***dict*** function."
   ]
  },
  {
   "cell_type": "code",
   "execution_count": null,
   "id": "6ec2ee1c-8cac-41ae-bfbb-a62e636a44e9",
   "metadata": {},
   "outputs": [],
   "source": [
    "sample_dict = dict(qgis='c++', grass='c')\n",
    "sample_dict"
   ]
  },
  {
   "cell_type": "markdown",
   "id": "6aa817e2-49af-47aa-9d19-8df73b458ad2",
   "metadata": {},
   "source": [
    "#### Accessing items\n",
    "Dict items are accessed using their keys"
   ]
  },
  {
   "cell_type": "code",
   "execution_count": null,
   "id": "170e8162-a2ab-4759-a49d-78dbe8419a24",
   "metadata": {},
   "outputs": [],
   "source": [
    "# key as index\n",
    "sample_dict = dict(qgis='c++', grass='c')\n",
    "lang = sample_dict[\"qgis\"]\n",
    "\n",
    "print(lang)"
   ]
  },
  {
   "cell_type": "code",
   "execution_count": null,
   "id": "38349cc8-1720-4111-886c-02fd850c7fa5",
   "metadata": {},
   "outputs": [],
   "source": [
    "# using the get function\n",
    "sample_dict = dict(qgis='c++', grass='c')\n",
    "lang = sample_dict.get(\"grass\")\n",
    "\n",
    "print(lang)"
   ]
  },
  {
   "cell_type": "markdown",
   "id": "29e297c2-acfd-4aa1-ace8-6e53a6e7249e",
   "metadata": {},
   "source": [
    "#### Get keys and values\n",
    "- `keys()`: gets keys\n",
    "- `values()`: gets values"
   ]
  },
  {
   "cell_type": "code",
   "execution_count": null,
   "id": "673016e8-cdb2-4010-968a-43817e92e4f8",
   "metadata": {},
   "outputs": [],
   "source": [
    "sample_dict = dict(qgis='c++', grass='c')\n",
    "sample_dict.keys()"
   ]
  },
  {
   "cell_type": "code",
   "execution_count": null,
   "id": "9a6e4a85-f336-423c-a81e-946374842fc0",
   "metadata": {},
   "outputs": [],
   "source": [
    "sample_dict.values()"
   ]
  },
  {
   "cell_type": "markdown",
   "id": "2b2d4c10-d0e7-4c45-95ab-97471553ea17",
   "metadata": {},
   "source": [
    "## CHALLENGE 02:\n",
    "\n",
    "How would you iterate over the items in a dictionary?"
   ]
  },
  {
   "cell_type": "markdown",
   "id": "75bd52bd-8bdd-4ed1-a770-f2ba90b7965f",
   "metadata": {},
   "source": [
    "You can check to see if a dict contains a certain key or value:"
   ]
  },
  {
   "cell_type": "code",
   "execution_count": null,
   "id": "9ac075fe-54ca-4ada-9eeb-2632ead1dbce",
   "metadata": {},
   "outputs": [],
   "source": [
    "sample_dict = dict(qgis='c++', grass='c')\n",
    "'qgis' in sample_dict"
   ]
  },
  {
   "cell_type": "code",
   "execution_count": null,
   "id": "95c2f625-c8c0-460b-b504-80c43d6dd674",
   "metadata": {},
   "outputs": [],
   "source": [
    "'qgis' in sample_dict.keys()"
   ]
  },
  {
   "cell_type": "code",
   "execution_count": null,
   "id": "49efc7b0-eafa-4727-9f4b-34748860f14d",
   "metadata": {},
   "outputs": [],
   "source": [
    "'qgis' in sample_dict.values()"
   ]
  },
  {
   "cell_type": "markdown",
   "id": "74acd1a9-4301-43ab-8e40-179d5a37fd84",
   "metadata": {},
   "source": [
    "Try to access an non-existent key (e.g.'saga'):"
   ]
  },
  {
   "cell_type": "code",
   "execution_count": null,
   "id": "058177d3-0c93-4674-a524-0c4261af0a97",
   "metadata": {},
   "outputs": [],
   "source": [
    "sample_dict['saga']"
   ]
  },
  {
   "cell_type": "markdown",
   "id": "55b0fda4-76c4-469d-b203-aad3d27fc223",
   "metadata": {},
   "source": [
    "You can check if a value exists before accessing it:"
   ]
  },
  {
   "cell_type": "code",
   "execution_count": null,
   "id": "bdd2329c-daa0-4e56-8f84-bd89f6085fa3",
   "metadata": {},
   "outputs": [],
   "source": [
    "# if the key 'qgis' is in the dict, print its value; if not, print a prompt\n",
    "if 'qgis' in sample_dict:\n",
    "    print(sample_dict['qgis'])\n",
    "else:\n",
    "    print(\"Key 'qgis' not found.\")"
   ]
  },
  {
   "cell_type": "markdown",
   "id": "3ec19a36-42ab-4990-95d8-f034e4f1a6f1",
   "metadata": {},
   "source": [
    "You can also wrap the code block in a try/except bloc (more preferred and Pythonic way)."
   ]
  },
  {
   "cell_type": "code",
   "execution_count": null,
   "id": "27945ef3-c451-4709-afd7-df88409fed5d",
   "metadata": {},
   "outputs": [],
   "source": [
    "try:\n",
    "    print(sample_dict['saga'])\n",
    "except:\n",
    "    print(\"Key not found\")"
   ]
  },
  {
   "cell_type": "markdown",
   "id": "d22cb524-22ab-4e27-ad79-6b5807a40e83",
   "metadata": {},
   "source": [
    "## Strings and string formatting\n",
    "\n",
    "Strings can be found and used everywhere in your Python code. Some example string manipulation functions are shown below."
   ]
  },
  {
   "cell_type": "code",
   "execution_count": null,
   "id": "6ee73e45-0ec7-4c39-abb8-852696fd5161",
   "metadata": {},
   "outputs": [],
   "source": [
    "s = 'QGIS & Python'"
   ]
  },
  {
   "cell_type": "code",
   "execution_count": null,
   "id": "b99dd786-74fa-4cef-b3e1-940dc389fd85",
   "metadata": {},
   "outputs": [],
   "source": [
    "# split on whitespace\n",
    "s.split()"
   ]
  },
  {
   "cell_type": "code",
   "execution_count": null,
   "id": "102e3bbc-2da1-4f67-9309-fad6b08a703c",
   "metadata": {},
   "outputs": [],
   "source": [
    "# split/pack into variables\n",
    "(a, b, c) = s.split()\n",
    "print(a)\n",
    "print(b)\n",
    "print(c)"
   ]
  },
  {
   "cell_type": "code",
   "execution_count": null,
   "id": "48fdb823-99ac-4614-bf3f-d32728e0dfa4",
   "metadata": {},
   "outputs": [],
   "source": [
    "# slice the string\n",
    "s[0:4]"
   ]
  },
  {
   "cell_type": "code",
   "execution_count": null,
   "id": "eee42c01-649c-43f6-99c0-e01efbedbb48",
   "metadata": {},
   "outputs": [],
   "source": [
    "# split on character\n",
    "s.split(' & ')"
   ]
  },
  {
   "cell_type": "markdown",
   "id": "a3d65cc7-1987-4e16-9ba2-bdacc439877a",
   "metadata": {},
   "source": [
    "In all the string operations above, the result is a list."
   ]
  },
  {
   "cell_type": "markdown",
   "id": "dc73e86a-4547-4930-b2f6-84356349bfdc",
   "metadata": {},
   "source": [
    "We can also check if a string contains a substring using ***in***."
   ]
  },
  {
   "cell_type": "code",
   "execution_count": null,
   "id": "047481b0-8c2e-4308-9bb9-9e0f77d07abe",
   "metadata": {},
   "outputs": [],
   "source": [
    "# does 'GIS' exist in our string\n",
    "'GIS' in s"
   ]
  },
  {
   "cell_type": "code",
   "execution_count": null,
   "id": "545eb3fd-0599-4e2b-8e82-8e311dfa72ef",
   "metadata": {},
   "outputs": [],
   "source": [
    "# where is it\n",
    "s.find('GIS')"
   ]
  },
  {
   "cell_type": "markdown",
   "id": "07a248a9-0863-4d64-b68e-4898d2ce7ca6",
   "metadata": {},
   "source": [
    "### Python also has a lot of string formatting capabilities."
   ]
  },
  {
   "cell_type": "code",
   "execution_count": null,
   "id": "97a3225d-003e-4b4e-a60d-5171b70318bf",
   "metadata": {},
   "outputs": [],
   "source": [
    "# UPPERCASE\n",
    "s.upper()"
   ]
  },
  {
   "cell_type": "code",
   "execution_count": null,
   "id": "dc67850b-37c7-4b3f-bd94-b236dfd8e173",
   "metadata": {},
   "outputs": [],
   "source": [
    "# lowercase\n",
    "s.lower()"
   ]
  },
  {
   "cell_type": "code",
   "execution_count": null,
   "id": "416b8964-9e92-4068-9e27-b63e5aa1f277",
   "metadata": {},
   "outputs": [],
   "source": [
    "# Title Case\n",
    "s.title()"
   ]
  },
  {
   "cell_type": "markdown",
   "id": "663e3957-7cc7-4c5f-b52b-0ebd6a161cf5",
   "metadata": {},
   "source": [
    "### You can also use the ***%*** operator, the ***format*** method, or ***f-strings*** (new in Python 3) to format strings."
   ]
  },
  {
   "cell_type": "code",
   "execution_count": null,
   "id": "96fdf896-d215-4fe6-99ac-d9add52d16a8",
   "metadata": {},
   "outputs": [],
   "source": [
    "# using %\n",
    "\"%s & %s\" %('Python', 'QGIS')"
   ]
  },
  {
   "cell_type": "code",
   "execution_count": null,
   "id": "19d6f191-85e6-4e57-821c-bfc377ebcacd",
   "metadata": {},
   "outputs": [],
   "source": [
    "# using format\n",
    "\"{word1} & {word2}\".format(word2='Python', word1='QGIS')"
   ]
  },
  {
   "cell_type": "code",
   "execution_count": null,
   "id": "40b909e0-951c-4948-84d8-08b729b2a4ac",
   "metadata": {},
   "outputs": [],
   "source": [
    "# using fstrings\n",
    "word1 = 'QGIS'\n",
    "word2 = 'Python'\n",
    "f\"{word1} & {word2}\""
   ]
  },
  {
   "cell_type": "code",
   "execution_count": null,
   "id": "728a6455-69eb-4cef-a9c5-cfdeeeec00dd",
   "metadata": {},
   "outputs": [],
   "source": [
    "# fstrings allow you to call Python expressins on your strings\n",
    "f\"{word1.lower()} & {word2.upper()}\""
   ]
  },
  {
   "cell_type": "markdown",
   "id": "48632ccc-b9ad-4b52-8f6d-101f6ed5dbd3",
   "metadata": {},
   "source": [
    "## Ranges\n",
    "Ranges are very useful if you need a list of intergers in a for loop."
   ]
  },
  {
   "cell_type": "code",
   "execution_count": null,
   "id": "e5a93f9b-76e5-48d2-aa6f-649f6ccd723b",
   "metadata": {},
   "outputs": [],
   "source": [
    "# create a list of numbers from 0 to 4\n",
    "list(range(0,5))"
   ]
  },
  {
   "cell_type": "markdown",
   "id": "c46b0fa0-fbf1-4d2b-8035-edd54fb0119f",
   "metadata": {},
   "source": [
    "Adding a third parameter to the ***range*** function specifies the step (default: 1)"
   ]
  },
  {
   "cell_type": "code",
   "execution_count": null,
   "id": "28eb7964-068f-415b-bfe8-fabd89d34e5f",
   "metadata": {},
   "outputs": [],
   "source": [
    "# create a list of numbers from 1 to 16 with \n",
    "# each successive item being 3 more than the previous one\n",
    "list(range(1,16,3))"
   ]
  },
  {
   "cell_type": "code",
   "execution_count": null,
   "id": "d78e24c3-089c-4f0b-a62b-eff09fb75f9f",
   "metadata": {},
   "outputs": [],
   "source": [
    "# create a list of numbers from 100 to 0 where each item decreases by 10.\n",
    "list(range(100, -1, -10))"
   ]
  },
  {
   "cell_type": "markdown",
   "id": "706b5402-1418-4ec1-810c-fd692d358a11",
   "metadata": {},
   "source": [
    "## User input"
   ]
  },
  {
   "cell_type": "markdown",
   "id": "654d8a94-a9d6-4ed3-a256-f585f5cfaf74",
   "metadata": {},
   "source": [
    "Python allows users to get a user input using the `input()` method"
   ]
  },
  {
   "cell_type": "code",
   "execution_count": null,
   "id": "ffa89ffe-6061-4e8d-a0f6-995b1cadb672",
   "metadata": {},
   "outputs": [],
   "source": [
    "pangalan = input(\"Ano ang iyong pangalan?\")\n",
    "print(\"Ikaw ay si {}\".format(pangalan))"
   ]
  },
  {
   "cell_type": "markdown",
   "id": "94442df1-f8f3-49d4-9159-0d6da7268d0c",
   "metadata": {},
   "source": [
    "## CHALLENGE 03:\n",
    "1. Write a Python script that takes user input for their name and birth year.\n",
    "2. Use the input to compute the user's age.\n",
    "3. Greet the user and create a personalized message depending on their age:\n",
    "   - if they are more than 65 year's old, congratulate them on being a senior citizen.\n",
    "   - if they are less than 65 year's old, tell them when they will become senior citizens"
   ]
  },
  {
   "cell_type": "code",
   "execution_count": null,
   "id": "ea30936c-5887-4317-bdfd-14d8fad42c3c",
   "metadata": {},
   "outputs": [],
   "source": [
    "# Write your script here"
   ]
  },
  {
   "cell_type": "markdown",
   "id": "84e50052-d696-4049-a5da-036c2447957a",
   "metadata": {},
   "source": [
    "## CHALLENGE 04:\n",
    "**Area computation using coordinate method**\n",
    "1. A polygon can be defined using its corner coordinates.\n",
    "2. Given a list of coordinate pairs of a single closed polygon, we can calculate the are using the formula:\n",
    "  - [(x1y2 - y1x2) + (x2y3 - y2x3) + ... + (xny1 - ynx1)]/2\n",
    "  - where x and y are the planar coordinates and the subscript represents either a clockwise or counter-clockwise ordering of corners\n",
    "  - see: https://mathopenref.com/coordpolygonarea.html\n",
    "\n",
    "### TODO\n",
    "1. Create a script that asks a user to enter coordinates of a polygon then returns the number of sides and area of the polygon\n",
    "\n",
    "### SAMPLE OPERATION\n",
    "Enter a polygon corner (clockwise) as x,y. Enter 'end' to quit corner entry:\n",
    "corner1: x1,y1\n",
    "corner2: x2,y2\n",
    "corner3: x3,y3\n",
    "...\n",
    "cornern: xn,yn\n",
    "cornern+1: end\n",
    "\n",
    "You entered a polygon with n corners.\n",
    "Computing area...\n",
    "\n",
    "Area: ??? sq. units"
   ]
  },
  {
   "cell_type": "code",
   "execution_count": null,
   "id": "df20f43a-c01e-42f6-ad22-4b54cf66876a",
   "metadata": {},
   "outputs": [],
   "source": [
    "# Write your script here"
   ]
  },
  {
   "cell_type": "markdown",
   "id": "a2178ac2-6f4b-4d9f-8ff0-82e82826572c",
   "metadata": {},
   "source": [
    "## File handling"
   ]
  },
  {
   "cell_type": "markdown",
   "id": "c841cc8a-cfe6-48cc-b15e-8e2cecf23474",
   "metadata": {},
   "source": [
    "Python has several functions for creating, reading, updating, and deleting files.\n",
    "\n",
    "- `open()`: key function for working with files\n",
    "- two parameters\n",
    "  - filename\n",
    "  - mode\n",
    "      -  \"r\" - Read - Default value. Opens a file for reading, error if the file does not exist\n",
    "      -  \"a\" - Append - Opens a file for appending, creates the file if it does not exist\n",
    "      -  \"w\" - Write - Opens a file for writing, creates the file if it does not exist\n",
    "      -  \"x\" - Create - Creates the specified file, returns an error if the file exists\n",
    "  - you can also can specify if the file should be handled as binary or text mode\n",
    "      - \"t\" - Text - Default value. Text mode\n",
    "      - \"b\" - Binary - Binary mode (e.g. images)"
   ]
  },
  {
   "cell_type": "code",
   "execution_count": null,
   "id": "04c9611d-dfd6-451a-a978-513c2c237806",
   "metadata": {},
   "outputs": [],
   "source": [
    "# open a file\n",
    "f = open(\"coords.txt\", \"tr\")"
   ]
  },
  {
   "cell_type": "code",
   "execution_count": null,
   "id": "c22d0900-e927-4dfa-aa5c-42518bb9a4be",
   "metadata": {},
   "outputs": [],
   "source": [
    "# read the contents\n",
    "print(f.read())"
   ]
  },
  {
   "cell_type": "code",
   "execution_count": null,
   "id": "50f28d98-5533-4380-af3e-52b3fda46c57",
   "metadata": {},
   "outputs": [],
   "source": [
    "# close the file when you are finished\n",
    "f.close()"
   ]
  },
  {
   "cell_type": "markdown",
   "id": "0de35a1c-5410-43d2-9a06-5da20beeda06",
   "metadata": {},
   "source": [
    "### Read per line\n",
    "- Return one line by using the `readline()` method\n",
    "- Iterate/loop over lines to read more lines or the whole file, line by line\n",
    "- This is useful if you need to do computations or processing per line"
   ]
  },
  {
   "cell_type": "code",
   "execution_count": null,
   "id": "984dfcba-1ea0-465f-949e-018aae3d7493",
   "metadata": {},
   "outputs": [],
   "source": [
    "f = open(\"data/coords.txt\", \"tr\")\n",
    "print(f.readline())\n",
    "print(f.readline())\n",
    "f.close()"
   ]
  },
  {
   "cell_type": "markdown",
   "id": "2104ed87-82e1-476d-8a2a-7ab8284edf73",
   "metadata": {},
   "source": [
    "You can also use `with` for opening and closing of the file. Using `with open` is generally considered better than explicitly using open and close in many scenarios. This is because the with statement provides a way to handle the opening and closing of files more efficiently and ensures proper resource management."
   ]
  },
  {
   "cell_type": "code",
   "execution_count": null,
   "id": "4c74fa37-819c-4518-97f5-4da0aac21fc6",
   "metadata": {},
   "outputs": [],
   "source": [
    "file_path = \"data/coords.txt\"\n",
    "\n",
    "try:\n",
    "    with open(file_path, 'r') as file:\n",
    "        # Read and print all lines from the file with line numbers\n",
    "        for line_number, line in enumerate(file, 1):\n",
    "            print(f\"Line number {line_number}: {line.strip()}\")  # Print line number and value\n",
    "\n",
    "except FileNotFoundError:\n",
    "    print(f\"Error: File '{file_path}' not found.\")\n",
    "\n",
    "except Exception as e:\n",
    "    print(f\"An error occurred: {e}\")"
   ]
  },
  {
   "cell_type": "markdown",
   "id": "9f9245bf-e0d1-4a51-88fa-6f06ffdd0178",
   "metadata": {},
   "source": [
    "## CHALLENGE 05:\n",
    "**Compute for the area from a file of coordinates**\n",
    "1. The file (coords.txt) is composed of X,Y coordinate values per line.\n",
    "\n",
    "### TODO\n",
    "1. Create a script that asks the user for a file listing a polygon's corners then returns the number of sides and area of the polygon.\n",
    "\n",
    "### SAMPLE OPERATION\n",
    "Enter the name of the file with coordinates (e.g., coordinates.txt): coords.txt\n",
    "\n",
    "You entered a polygon with n corners.\n",
    "Computing area...\n",
    "\n",
    "Area: ??? sq. units"
   ]
  }
 ],
 "metadata": {
  "kernelspec": {
   "display_name": "Python 3 (ipykernel)",
   "language": "python",
   "name": "python3"
  },
  "language_info": {
   "codemirror_mode": {
    "name": "ipython",
    "version": 3
   },
   "file_extension": ".py",
   "mimetype": "text/x-python",
   "name": "python",
   "nbconvert_exporter": "python",
   "pygments_lexer": "ipython3",
   "version": "3.11.7"
  }
 },
 "nbformat": 4,
 "nbformat_minor": 5
}
